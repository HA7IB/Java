{
 "cells": [
  {
   "cell_type": "code",
   "execution_count": 1,
   "id": "722f771f",
   "metadata": {},
   "outputs": [],
   "source": [
    "import pandas as pd \n",
    "import numpy as np\n",
    "import seaborn as sns\n",
    "import matplotlib.pyplot as plt\n",
    "import warnings\n",
    "import plotly.graph_objects as go\n",
    "import plotly.express as px\n",
    "from sklearn.model_selection import train_test_split\n",
    "from sklearn.metrics import classification_report, accuracy_score\n",
    "sns.set_style(\"darkgrid\")\n",
    "pd.set_option(\"display.max_columns\", None)\n",
    "pd.options.plotting.backend = \"plotly\"\n",
    "warnings.filterwarnings(\"ignore\")"
   ]
  },
  {
   "cell_type": "code",
   "execution_count": 2,
   "id": "7f308665",
   "metadata": {},
   "outputs": [
    {
     "data": {
      "text/html": [
       "<div>\n",
       "<style scoped>\n",
       "    .dataframe tbody tr th:only-of-type {\n",
       "        vertical-align: middle;\n",
       "    }\n",
       "\n",
       "    .dataframe tbody tr th {\n",
       "        vertical-align: top;\n",
       "    }\n",
       "\n",
       "    .dataframe thead th {\n",
       "        text-align: right;\n",
       "    }\n",
       "</style>\n",
       "<table border=\"1\" class=\"dataframe\">\n",
       "  <thead>\n",
       "    <tr style=\"text-align: right;\">\n",
       "      <th></th>\n",
       "      <th>A1_Score</th>\n",
       "      <th>A2_Score</th>\n",
       "      <th>A3_Score</th>\n",
       "      <th>A4_Score</th>\n",
       "      <th>A5_Score</th>\n",
       "      <th>A6_Score</th>\n",
       "      <th>A7_Score</th>\n",
       "      <th>A8_Score</th>\n",
       "      <th>A9_Score</th>\n",
       "      <th>A10_Score</th>\n",
       "      <th>age</th>\n",
       "      <th>gender</th>\n",
       "      <th>ethnicity</th>\n",
       "      <th>jundice</th>\n",
       "      <th>austim</th>\n",
       "      <th>contry_of_res</th>\n",
       "      <th>used_app_before</th>\n",
       "      <th>result</th>\n",
       "      <th>age_desc</th>\n",
       "      <th>relation</th>\n",
       "      <th>Class/ASD</th>\n",
       "    </tr>\n",
       "  </thead>\n",
       "  <tbody>\n",
       "    <tr>\n",
       "      <th>0</th>\n",
       "      <td>1</td>\n",
       "      <td>1</td>\n",
       "      <td>0</td>\n",
       "      <td>0</td>\n",
       "      <td>1</td>\n",
       "      <td>1</td>\n",
       "      <td>0</td>\n",
       "      <td>1</td>\n",
       "      <td>0</td>\n",
       "      <td>0</td>\n",
       "      <td>6.0</td>\n",
       "      <td>m</td>\n",
       "      <td>Others</td>\n",
       "      <td>no</td>\n",
       "      <td>no</td>\n",
       "      <td>Jordan</td>\n",
       "      <td>no</td>\n",
       "      <td>5</td>\n",
       "      <td>'4-11 years'</td>\n",
       "      <td>Parent</td>\n",
       "      <td>NO</td>\n",
       "    </tr>\n",
       "    <tr>\n",
       "      <th>1</th>\n",
       "      <td>1</td>\n",
       "      <td>1</td>\n",
       "      <td>0</td>\n",
       "      <td>0</td>\n",
       "      <td>1</td>\n",
       "      <td>1</td>\n",
       "      <td>0</td>\n",
       "      <td>1</td>\n",
       "      <td>0</td>\n",
       "      <td>0</td>\n",
       "      <td>6.0</td>\n",
       "      <td>m</td>\n",
       "      <td>'Middle Eastern '</td>\n",
       "      <td>no</td>\n",
       "      <td>no</td>\n",
       "      <td>Jordan</td>\n",
       "      <td>no</td>\n",
       "      <td>5</td>\n",
       "      <td>'4-11 years'</td>\n",
       "      <td>Parent</td>\n",
       "      <td>NO</td>\n",
       "    </tr>\n",
       "    <tr>\n",
       "      <th>2</th>\n",
       "      <td>1</td>\n",
       "      <td>1</td>\n",
       "      <td>0</td>\n",
       "      <td>0</td>\n",
       "      <td>0</td>\n",
       "      <td>1</td>\n",
       "      <td>1</td>\n",
       "      <td>1</td>\n",
       "      <td>0</td>\n",
       "      <td>0</td>\n",
       "      <td>6.0</td>\n",
       "      <td>m</td>\n",
       "      <td>?</td>\n",
       "      <td>no</td>\n",
       "      <td>no</td>\n",
       "      <td>Jordan</td>\n",
       "      <td>yes</td>\n",
       "      <td>5</td>\n",
       "      <td>'4-11 years'</td>\n",
       "      <td>?</td>\n",
       "      <td>NO</td>\n",
       "    </tr>\n",
       "    <tr>\n",
       "      <th>3</th>\n",
       "      <td>0</td>\n",
       "      <td>1</td>\n",
       "      <td>0</td>\n",
       "      <td>0</td>\n",
       "      <td>1</td>\n",
       "      <td>1</td>\n",
       "      <td>0</td>\n",
       "      <td>0</td>\n",
       "      <td>0</td>\n",
       "      <td>1</td>\n",
       "      <td>5.0</td>\n",
       "      <td>f</td>\n",
       "      <td>?</td>\n",
       "      <td>yes</td>\n",
       "      <td>no</td>\n",
       "      <td>Jordan</td>\n",
       "      <td>no</td>\n",
       "      <td>4</td>\n",
       "      <td>'4-11 years'</td>\n",
       "      <td>?</td>\n",
       "      <td>NO</td>\n",
       "    </tr>\n",
       "    <tr>\n",
       "      <th>4</th>\n",
       "      <td>1</td>\n",
       "      <td>1</td>\n",
       "      <td>1</td>\n",
       "      <td>1</td>\n",
       "      <td>1</td>\n",
       "      <td>1</td>\n",
       "      <td>1</td>\n",
       "      <td>1</td>\n",
       "      <td>1</td>\n",
       "      <td>1</td>\n",
       "      <td>5.0</td>\n",
       "      <td>m</td>\n",
       "      <td>Others</td>\n",
       "      <td>yes</td>\n",
       "      <td>no</td>\n",
       "      <td>'United States'</td>\n",
       "      <td>no</td>\n",
       "      <td>10</td>\n",
       "      <td>'4-11 years'</td>\n",
       "      <td>Parent</td>\n",
       "      <td>YES</td>\n",
       "    </tr>\n",
       "    <tr>\n",
       "      <th>...</th>\n",
       "      <td>...</td>\n",
       "      <td>...</td>\n",
       "      <td>...</td>\n",
       "      <td>...</td>\n",
       "      <td>...</td>\n",
       "      <td>...</td>\n",
       "      <td>...</td>\n",
       "      <td>...</td>\n",
       "      <td>...</td>\n",
       "      <td>...</td>\n",
       "      <td>...</td>\n",
       "      <td>...</td>\n",
       "      <td>...</td>\n",
       "      <td>...</td>\n",
       "      <td>...</td>\n",
       "      <td>...</td>\n",
       "      <td>...</td>\n",
       "      <td>...</td>\n",
       "      <td>...</td>\n",
       "      <td>...</td>\n",
       "      <td>...</td>\n",
       "    </tr>\n",
       "    <tr>\n",
       "      <th>287</th>\n",
       "      <td>1</td>\n",
       "      <td>1</td>\n",
       "      <td>1</td>\n",
       "      <td>1</td>\n",
       "      <td>1</td>\n",
       "      <td>1</td>\n",
       "      <td>1</td>\n",
       "      <td>1</td>\n",
       "      <td>1</td>\n",
       "      <td>1</td>\n",
       "      <td>7.0</td>\n",
       "      <td>f</td>\n",
       "      <td>White-European</td>\n",
       "      <td>yes</td>\n",
       "      <td>yes</td>\n",
       "      <td>'United Kingdom'</td>\n",
       "      <td>no</td>\n",
       "      <td>10</td>\n",
       "      <td>'4-11 years'</td>\n",
       "      <td>Parent</td>\n",
       "      <td>YES</td>\n",
       "    </tr>\n",
       "    <tr>\n",
       "      <th>288</th>\n",
       "      <td>1</td>\n",
       "      <td>0</td>\n",
       "      <td>0</td>\n",
       "      <td>0</td>\n",
       "      <td>1</td>\n",
       "      <td>0</td>\n",
       "      <td>1</td>\n",
       "      <td>0</td>\n",
       "      <td>0</td>\n",
       "      <td>1</td>\n",
       "      <td>7.0</td>\n",
       "      <td>f</td>\n",
       "      <td>White-European</td>\n",
       "      <td>yes</td>\n",
       "      <td>yes</td>\n",
       "      <td>Australia</td>\n",
       "      <td>no</td>\n",
       "      <td>4</td>\n",
       "      <td>'4-11 years'</td>\n",
       "      <td>Parent</td>\n",
       "      <td>NO</td>\n",
       "    </tr>\n",
       "    <tr>\n",
       "      <th>289</th>\n",
       "      <td>1</td>\n",
       "      <td>0</td>\n",
       "      <td>1</td>\n",
       "      <td>1</td>\n",
       "      <td>1</td>\n",
       "      <td>1</td>\n",
       "      <td>1</td>\n",
       "      <td>0</td>\n",
       "      <td>0</td>\n",
       "      <td>1</td>\n",
       "      <td>4.0</td>\n",
       "      <td>m</td>\n",
       "      <td>Latino</td>\n",
       "      <td>no</td>\n",
       "      <td>no</td>\n",
       "      <td>Brazil</td>\n",
       "      <td>no</td>\n",
       "      <td>7</td>\n",
       "      <td>'4-11 years'</td>\n",
       "      <td>Parent</td>\n",
       "      <td>YES</td>\n",
       "    </tr>\n",
       "    <tr>\n",
       "      <th>290</th>\n",
       "      <td>1</td>\n",
       "      <td>1</td>\n",
       "      <td>1</td>\n",
       "      <td>0</td>\n",
       "      <td>1</td>\n",
       "      <td>1</td>\n",
       "      <td>1</td>\n",
       "      <td>1</td>\n",
       "      <td>1</td>\n",
       "      <td>1</td>\n",
       "      <td>4.0</td>\n",
       "      <td>m</td>\n",
       "      <td>'South Asian'</td>\n",
       "      <td>no</td>\n",
       "      <td>no</td>\n",
       "      <td>India</td>\n",
       "      <td>no</td>\n",
       "      <td>9</td>\n",
       "      <td>'4-11 years'</td>\n",
       "      <td>Parent</td>\n",
       "      <td>YES</td>\n",
       "    </tr>\n",
       "    <tr>\n",
       "      <th>291</th>\n",
       "      <td>0</td>\n",
       "      <td>0</td>\n",
       "      <td>1</td>\n",
       "      <td>0</td>\n",
       "      <td>1</td>\n",
       "      <td>0</td>\n",
       "      <td>1</td>\n",
       "      <td>0</td>\n",
       "      <td>0</td>\n",
       "      <td>0</td>\n",
       "      <td>4.0</td>\n",
       "      <td>f</td>\n",
       "      <td>'South Asian'</td>\n",
       "      <td>no</td>\n",
       "      <td>no</td>\n",
       "      <td>India</td>\n",
       "      <td>no</td>\n",
       "      <td>3</td>\n",
       "      <td>'4-11 years'</td>\n",
       "      <td>Parent</td>\n",
       "      <td>NO</td>\n",
       "    </tr>\n",
       "  </tbody>\n",
       "</table>\n",
       "<p>292 rows × 21 columns</p>\n",
       "</div>"
      ],
      "text/plain": [
       "     A1_Score  A2_Score  A3_Score  A4_Score  A5_Score  A6_Score  A7_Score  \\\n",
       "0           1         1         0         0         1         1         0   \n",
       "1           1         1         0         0         1         1         0   \n",
       "2           1         1         0         0         0         1         1   \n",
       "3           0         1         0         0         1         1         0   \n",
       "4           1         1         1         1         1         1         1   \n",
       "..        ...       ...       ...       ...       ...       ...       ...   \n",
       "287         1         1         1         1         1         1         1   \n",
       "288         1         0         0         0         1         0         1   \n",
       "289         1         0         1         1         1         1         1   \n",
       "290         1         1         1         0         1         1         1   \n",
       "291         0         0         1         0         1         0         1   \n",
       "\n",
       "     A8_Score  A9_Score  A10_Score  age gender          ethnicity jundice  \\\n",
       "0           1         0          0  6.0      m             Others      no   \n",
       "1           1         0          0  6.0      m  'Middle Eastern '      no   \n",
       "2           1         0          0  6.0      m                  ?      no   \n",
       "3           0         0          1  5.0      f                  ?     yes   \n",
       "4           1         1          1  5.0      m             Others     yes   \n",
       "..        ...       ...        ...  ...    ...                ...     ...   \n",
       "287         1         1          1  7.0      f     White-European     yes   \n",
       "288         0         0          1  7.0      f     White-European     yes   \n",
       "289         0         0          1  4.0      m             Latino      no   \n",
       "290         1         1          1  4.0      m      'South Asian'      no   \n",
       "291         0         0          0  4.0      f      'South Asian'      no   \n",
       "\n",
       "    austim     contry_of_res used_app_before  result      age_desc relation  \\\n",
       "0       no            Jordan              no       5  '4-11 years'   Parent   \n",
       "1       no            Jordan              no       5  '4-11 years'   Parent   \n",
       "2       no            Jordan             yes       5  '4-11 years'        ?   \n",
       "3       no            Jordan              no       4  '4-11 years'        ?   \n",
       "4       no   'United States'              no      10  '4-11 years'   Parent   \n",
       "..     ...               ...             ...     ...           ...      ...   \n",
       "287    yes  'United Kingdom'              no      10  '4-11 years'   Parent   \n",
       "288    yes         Australia              no       4  '4-11 years'   Parent   \n",
       "289     no            Brazil              no       7  '4-11 years'   Parent   \n",
       "290     no             India              no       9  '4-11 years'   Parent   \n",
       "291     no             India              no       3  '4-11 years'   Parent   \n",
       "\n",
       "    Class/ASD  \n",
       "0          NO  \n",
       "1          NO  \n",
       "2          NO  \n",
       "3          NO  \n",
       "4         YES  \n",
       "..        ...  \n",
       "287       YES  \n",
       "288        NO  \n",
       "289       YES  \n",
       "290       YES  \n",
       "291        NO  \n",
       "\n",
       "[292 rows x 21 columns]"
      ]
     },
     "execution_count": 2,
     "metadata": {},
     "output_type": "execute_result"
    }
   ],
   "source": [
    "df = pd.read_csv(\"C://Users/itzha/Downloads/New folder/Autism-Child-Data.csv\")\n",
    "df"
   ]
  },
  {
   "cell_type": "code",
   "execution_count": 3,
   "id": "bbd362ed",
   "metadata": {},
   "outputs": [
    {
     "name": "stdout",
     "output_type": "stream",
     "text": [
      "Shape of dataframe is: (292, 21)\n"
     ]
    }
   ],
   "source": [
    "print(f'Shape of dataframe is: {df.shape}')"
   ]
  },
  {
   "cell_type": "code",
   "execution_count": 4,
   "id": "21e14eac",
   "metadata": {},
   "outputs": [
    {
     "data": {
      "text/html": [
       "<div>\n",
       "<style scoped>\n",
       "    .dataframe tbody tr th:only-of-type {\n",
       "        vertical-align: middle;\n",
       "    }\n",
       "\n",
       "    .dataframe tbody tr th {\n",
       "        vertical-align: top;\n",
       "    }\n",
       "\n",
       "    .dataframe thead th {\n",
       "        text-align: right;\n",
       "    }\n",
       "</style>\n",
       "<table border=\"1\" class=\"dataframe\">\n",
       "  <thead>\n",
       "    <tr style=\"text-align: right;\">\n",
       "      <th></th>\n",
       "      <th>Data Type</th>\n",
       "    </tr>\n",
       "  </thead>\n",
       "  <tbody>\n",
       "    <tr>\n",
       "      <th>A1_Score</th>\n",
       "      <td>int64</td>\n",
       "    </tr>\n",
       "    <tr>\n",
       "      <th>A2_Score</th>\n",
       "      <td>int64</td>\n",
       "    </tr>\n",
       "    <tr>\n",
       "      <th>A3_Score</th>\n",
       "      <td>int64</td>\n",
       "    </tr>\n",
       "    <tr>\n",
       "      <th>A4_Score</th>\n",
       "      <td>int64</td>\n",
       "    </tr>\n",
       "    <tr>\n",
       "      <th>A5_Score</th>\n",
       "      <td>int64</td>\n",
       "    </tr>\n",
       "    <tr>\n",
       "      <th>A6_Score</th>\n",
       "      <td>int64</td>\n",
       "    </tr>\n",
       "    <tr>\n",
       "      <th>A7_Score</th>\n",
       "      <td>int64</td>\n",
       "    </tr>\n",
       "    <tr>\n",
       "      <th>A8_Score</th>\n",
       "      <td>int64</td>\n",
       "    </tr>\n",
       "    <tr>\n",
       "      <th>A9_Score</th>\n",
       "      <td>int64</td>\n",
       "    </tr>\n",
       "    <tr>\n",
       "      <th>A10_Score</th>\n",
       "      <td>int64</td>\n",
       "    </tr>\n",
       "    <tr>\n",
       "      <th>age</th>\n",
       "      <td>float64</td>\n",
       "    </tr>\n",
       "    <tr>\n",
       "      <th>gender</th>\n",
       "      <td>object</td>\n",
       "    </tr>\n",
       "    <tr>\n",
       "      <th>ethnicity</th>\n",
       "      <td>object</td>\n",
       "    </tr>\n",
       "    <tr>\n",
       "      <th>jundice</th>\n",
       "      <td>object</td>\n",
       "    </tr>\n",
       "    <tr>\n",
       "      <th>austim</th>\n",
       "      <td>object</td>\n",
       "    </tr>\n",
       "    <tr>\n",
       "      <th>contry_of_res</th>\n",
       "      <td>object</td>\n",
       "    </tr>\n",
       "    <tr>\n",
       "      <th>used_app_before</th>\n",
       "      <td>object</td>\n",
       "    </tr>\n",
       "    <tr>\n",
       "      <th>result</th>\n",
       "      <td>int64</td>\n",
       "    </tr>\n",
       "    <tr>\n",
       "      <th>age_desc</th>\n",
       "      <td>object</td>\n",
       "    </tr>\n",
       "    <tr>\n",
       "      <th>relation</th>\n",
       "      <td>object</td>\n",
       "    </tr>\n",
       "    <tr>\n",
       "      <th>Class/ASD</th>\n",
       "      <td>object</td>\n",
       "    </tr>\n",
       "  </tbody>\n",
       "</table>\n",
       "</div>"
      ],
      "text/plain": [
       "                Data Type\n",
       "A1_Score            int64\n",
       "A2_Score            int64\n",
       "A3_Score            int64\n",
       "A4_Score            int64\n",
       "A5_Score            int64\n",
       "A6_Score            int64\n",
       "A7_Score            int64\n",
       "A8_Score            int64\n",
       "A9_Score            int64\n",
       "A10_Score           int64\n",
       "age               float64\n",
       "gender             object\n",
       "ethnicity          object\n",
       "jundice            object\n",
       "austim             object\n",
       "contry_of_res      object\n",
       "used_app_before    object\n",
       "result              int64\n",
       "age_desc           object\n",
       "relation           object\n",
       "Class/ASD          object"
      ]
     },
     "execution_count": 4,
     "metadata": {},
     "output_type": "execute_result"
    }
   ],
   "source": [
    "pd.DataFrame(df.dtypes,\n",
    "             columns = [\"Data Type\"])"
   ]
  },
  {
   "cell_type": "code",
   "execution_count": 5,
   "id": "3aa6722c",
   "metadata": {},
   "outputs": [
    {
     "data": {
      "text/html": [
       "<div>\n",
       "<style scoped>\n",
       "    .dataframe tbody tr th:only-of-type {\n",
       "        vertical-align: middle;\n",
       "    }\n",
       "\n",
       "    .dataframe tbody tr th {\n",
       "        vertical-align: top;\n",
       "    }\n",
       "\n",
       "    .dataframe thead th {\n",
       "        text-align: right;\n",
       "    }\n",
       "</style>\n",
       "<table border=\"1\" class=\"dataframe\">\n",
       "  <thead>\n",
       "    <tr style=\"text-align: right;\">\n",
       "      <th></th>\n",
       "      <th>A1_Score</th>\n",
       "      <th>A2_Score</th>\n",
       "      <th>A3_Score</th>\n",
       "      <th>A4_Score</th>\n",
       "      <th>A5_Score</th>\n",
       "      <th>A6_Score</th>\n",
       "      <th>A7_Score</th>\n",
       "      <th>A8_Score</th>\n",
       "      <th>A9_Score</th>\n",
       "      <th>A10_Score</th>\n",
       "      <th>age</th>\n",
       "      <th>result</th>\n",
       "    </tr>\n",
       "  </thead>\n",
       "  <tbody>\n",
       "    <tr>\n",
       "      <th>count</th>\n",
       "      <td>292.000000</td>\n",
       "      <td>292.000000</td>\n",
       "      <td>292.000000</td>\n",
       "      <td>292.000000</td>\n",
       "      <td>292.000000</td>\n",
       "      <td>292.000000</td>\n",
       "      <td>292.000000</td>\n",
       "      <td>292.000000</td>\n",
       "      <td>292.000000</td>\n",
       "      <td>292.000000</td>\n",
       "      <td>288.000000</td>\n",
       "      <td>292.000000</td>\n",
       "    </tr>\n",
       "    <tr>\n",
       "      <th>mean</th>\n",
       "      <td>0.633562</td>\n",
       "      <td>0.534247</td>\n",
       "      <td>0.743151</td>\n",
       "      <td>0.551370</td>\n",
       "      <td>0.743151</td>\n",
       "      <td>0.712329</td>\n",
       "      <td>0.606164</td>\n",
       "      <td>0.496575</td>\n",
       "      <td>0.493151</td>\n",
       "      <td>0.726027</td>\n",
       "      <td>6.354167</td>\n",
       "      <td>6.239726</td>\n",
       "    </tr>\n",
       "    <tr>\n",
       "      <th>std</th>\n",
       "      <td>0.482658</td>\n",
       "      <td>0.499682</td>\n",
       "      <td>0.437646</td>\n",
       "      <td>0.498208</td>\n",
       "      <td>0.437646</td>\n",
       "      <td>0.453454</td>\n",
       "      <td>0.489438</td>\n",
       "      <td>0.500847</td>\n",
       "      <td>0.500811</td>\n",
       "      <td>0.446761</td>\n",
       "      <td>2.365456</td>\n",
       "      <td>2.284882</td>\n",
       "    </tr>\n",
       "    <tr>\n",
       "      <th>min</th>\n",
       "      <td>0.000000</td>\n",
       "      <td>0.000000</td>\n",
       "      <td>0.000000</td>\n",
       "      <td>0.000000</td>\n",
       "      <td>0.000000</td>\n",
       "      <td>0.000000</td>\n",
       "      <td>0.000000</td>\n",
       "      <td>0.000000</td>\n",
       "      <td>0.000000</td>\n",
       "      <td>0.000000</td>\n",
       "      <td>4.000000</td>\n",
       "      <td>0.000000</td>\n",
       "    </tr>\n",
       "    <tr>\n",
       "      <th>25%</th>\n",
       "      <td>0.000000</td>\n",
       "      <td>0.000000</td>\n",
       "      <td>0.000000</td>\n",
       "      <td>0.000000</td>\n",
       "      <td>0.000000</td>\n",
       "      <td>0.000000</td>\n",
       "      <td>0.000000</td>\n",
       "      <td>0.000000</td>\n",
       "      <td>0.000000</td>\n",
       "      <td>0.000000</td>\n",
       "      <td>4.000000</td>\n",
       "      <td>5.000000</td>\n",
       "    </tr>\n",
       "    <tr>\n",
       "      <th>50%</th>\n",
       "      <td>1.000000</td>\n",
       "      <td>1.000000</td>\n",
       "      <td>1.000000</td>\n",
       "      <td>1.000000</td>\n",
       "      <td>1.000000</td>\n",
       "      <td>1.000000</td>\n",
       "      <td>1.000000</td>\n",
       "      <td>0.000000</td>\n",
       "      <td>0.000000</td>\n",
       "      <td>1.000000</td>\n",
       "      <td>6.000000</td>\n",
       "      <td>6.000000</td>\n",
       "    </tr>\n",
       "    <tr>\n",
       "      <th>75%</th>\n",
       "      <td>1.000000</td>\n",
       "      <td>1.000000</td>\n",
       "      <td>1.000000</td>\n",
       "      <td>1.000000</td>\n",
       "      <td>1.000000</td>\n",
       "      <td>1.000000</td>\n",
       "      <td>1.000000</td>\n",
       "      <td>1.000000</td>\n",
       "      <td>1.000000</td>\n",
       "      <td>1.000000</td>\n",
       "      <td>8.000000</td>\n",
       "      <td>8.000000</td>\n",
       "    </tr>\n",
       "    <tr>\n",
       "      <th>max</th>\n",
       "      <td>1.000000</td>\n",
       "      <td>1.000000</td>\n",
       "      <td>1.000000</td>\n",
       "      <td>1.000000</td>\n",
       "      <td>1.000000</td>\n",
       "      <td>1.000000</td>\n",
       "      <td>1.000000</td>\n",
       "      <td>1.000000</td>\n",
       "      <td>1.000000</td>\n",
       "      <td>1.000000</td>\n",
       "      <td>11.000000</td>\n",
       "      <td>10.000000</td>\n",
       "    </tr>\n",
       "  </tbody>\n",
       "</table>\n",
       "</div>"
      ],
      "text/plain": [
       "         A1_Score    A2_Score    A3_Score    A4_Score    A5_Score    A6_Score  \\\n",
       "count  292.000000  292.000000  292.000000  292.000000  292.000000  292.000000   \n",
       "mean     0.633562    0.534247    0.743151    0.551370    0.743151    0.712329   \n",
       "std      0.482658    0.499682    0.437646    0.498208    0.437646    0.453454   \n",
       "min      0.000000    0.000000    0.000000    0.000000    0.000000    0.000000   \n",
       "25%      0.000000    0.000000    0.000000    0.000000    0.000000    0.000000   \n",
       "50%      1.000000    1.000000    1.000000    1.000000    1.000000    1.000000   \n",
       "75%      1.000000    1.000000    1.000000    1.000000    1.000000    1.000000   \n",
       "max      1.000000    1.000000    1.000000    1.000000    1.000000    1.000000   \n",
       "\n",
       "         A7_Score    A8_Score    A9_Score   A10_Score         age      result  \n",
       "count  292.000000  292.000000  292.000000  292.000000  288.000000  292.000000  \n",
       "mean     0.606164    0.496575    0.493151    0.726027    6.354167    6.239726  \n",
       "std      0.489438    0.500847    0.500811    0.446761    2.365456    2.284882  \n",
       "min      0.000000    0.000000    0.000000    0.000000    4.000000    0.000000  \n",
       "25%      0.000000    0.000000    0.000000    0.000000    4.000000    5.000000  \n",
       "50%      1.000000    0.000000    0.000000    1.000000    6.000000    6.000000  \n",
       "75%      1.000000    1.000000    1.000000    1.000000    8.000000    8.000000  \n",
       "max      1.000000    1.000000    1.000000    1.000000   11.000000   10.000000  "
      ]
     },
     "execution_count": 5,
     "metadata": {},
     "output_type": "execute_result"
    }
   ],
   "source": [
    "df.describe()"
   ]
  },
  {
   "cell_type": "code",
   "execution_count": 6,
   "id": "7f631286",
   "metadata": {},
   "outputs": [
    {
     "data": {
      "text/html": [
       "<style type=\"text/css\">\n",
       "#T_b23f8_row0_col0, #T_b23f8_row1_col0, #T_b23f8_row2_col0, #T_b23f8_row3_col0, #T_b23f8_row4_col0, #T_b23f8_row5_col0, #T_b23f8_row6_col0, #T_b23f8_row7_col0, #T_b23f8_row8_col0, #T_b23f8_row9_col0, #T_b23f8_row11_col0, #T_b23f8_row12_col0, #T_b23f8_row13_col0, #T_b23f8_row14_col0, #T_b23f8_row15_col0, #T_b23f8_row16_col0, #T_b23f8_row17_col0, #T_b23f8_row18_col0, #T_b23f8_row19_col0, #T_b23f8_row20_col0 {\n",
       "  width: 10em;\n",
       "}\n",
       "#T_b23f8_row10_col0 {\n",
       "  width: 10em;\n",
       "  background: linear-gradient(90deg, #84A9AC 100.0%, transparent 100.0%);\n",
       "}\n",
       "</style>\n",
       "<table id=\"T_b23f8\">\n",
       "  <thead>\n",
       "    <tr>\n",
       "      <th class=\"blank level0\" >&nbsp;</th>\n",
       "      <th id=\"T_b23f8_level0_col0\" class=\"col_heading level0 col0\" >Missing Values</th>\n",
       "    </tr>\n",
       "  </thead>\n",
       "  <tbody>\n",
       "    <tr>\n",
       "      <th id=\"T_b23f8_level0_row0\" class=\"row_heading level0 row0\" >A1_Score</th>\n",
       "      <td id=\"T_b23f8_row0_col0\" class=\"data row0 col0\" >0</td>\n",
       "    </tr>\n",
       "    <tr>\n",
       "      <th id=\"T_b23f8_level0_row1\" class=\"row_heading level0 row1\" >A2_Score</th>\n",
       "      <td id=\"T_b23f8_row1_col0\" class=\"data row1 col0\" >0</td>\n",
       "    </tr>\n",
       "    <tr>\n",
       "      <th id=\"T_b23f8_level0_row2\" class=\"row_heading level0 row2\" >A3_Score</th>\n",
       "      <td id=\"T_b23f8_row2_col0\" class=\"data row2 col0\" >0</td>\n",
       "    </tr>\n",
       "    <tr>\n",
       "      <th id=\"T_b23f8_level0_row3\" class=\"row_heading level0 row3\" >A4_Score</th>\n",
       "      <td id=\"T_b23f8_row3_col0\" class=\"data row3 col0\" >0</td>\n",
       "    </tr>\n",
       "    <tr>\n",
       "      <th id=\"T_b23f8_level0_row4\" class=\"row_heading level0 row4\" >A5_Score</th>\n",
       "      <td id=\"T_b23f8_row4_col0\" class=\"data row4 col0\" >0</td>\n",
       "    </tr>\n",
       "    <tr>\n",
       "      <th id=\"T_b23f8_level0_row5\" class=\"row_heading level0 row5\" >A6_Score</th>\n",
       "      <td id=\"T_b23f8_row5_col0\" class=\"data row5 col0\" >0</td>\n",
       "    </tr>\n",
       "    <tr>\n",
       "      <th id=\"T_b23f8_level0_row6\" class=\"row_heading level0 row6\" >A7_Score</th>\n",
       "      <td id=\"T_b23f8_row6_col0\" class=\"data row6 col0\" >0</td>\n",
       "    </tr>\n",
       "    <tr>\n",
       "      <th id=\"T_b23f8_level0_row7\" class=\"row_heading level0 row7\" >A8_Score</th>\n",
       "      <td id=\"T_b23f8_row7_col0\" class=\"data row7 col0\" >0</td>\n",
       "    </tr>\n",
       "    <tr>\n",
       "      <th id=\"T_b23f8_level0_row8\" class=\"row_heading level0 row8\" >A9_Score</th>\n",
       "      <td id=\"T_b23f8_row8_col0\" class=\"data row8 col0\" >0</td>\n",
       "    </tr>\n",
       "    <tr>\n",
       "      <th id=\"T_b23f8_level0_row9\" class=\"row_heading level0 row9\" >A10_Score</th>\n",
       "      <td id=\"T_b23f8_row9_col0\" class=\"data row9 col0\" >0</td>\n",
       "    </tr>\n",
       "    <tr>\n",
       "      <th id=\"T_b23f8_level0_row10\" class=\"row_heading level0 row10\" >age</th>\n",
       "      <td id=\"T_b23f8_row10_col0\" class=\"data row10 col0\" >4</td>\n",
       "    </tr>\n",
       "    <tr>\n",
       "      <th id=\"T_b23f8_level0_row11\" class=\"row_heading level0 row11\" >gender</th>\n",
       "      <td id=\"T_b23f8_row11_col0\" class=\"data row11 col0\" >0</td>\n",
       "    </tr>\n",
       "    <tr>\n",
       "      <th id=\"T_b23f8_level0_row12\" class=\"row_heading level0 row12\" >ethnicity</th>\n",
       "      <td id=\"T_b23f8_row12_col0\" class=\"data row12 col0\" >0</td>\n",
       "    </tr>\n",
       "    <tr>\n",
       "      <th id=\"T_b23f8_level0_row13\" class=\"row_heading level0 row13\" >jundice</th>\n",
       "      <td id=\"T_b23f8_row13_col0\" class=\"data row13 col0\" >0</td>\n",
       "    </tr>\n",
       "    <tr>\n",
       "      <th id=\"T_b23f8_level0_row14\" class=\"row_heading level0 row14\" >austim</th>\n",
       "      <td id=\"T_b23f8_row14_col0\" class=\"data row14 col0\" >0</td>\n",
       "    </tr>\n",
       "    <tr>\n",
       "      <th id=\"T_b23f8_level0_row15\" class=\"row_heading level0 row15\" >contry_of_res</th>\n",
       "      <td id=\"T_b23f8_row15_col0\" class=\"data row15 col0\" >0</td>\n",
       "    </tr>\n",
       "    <tr>\n",
       "      <th id=\"T_b23f8_level0_row16\" class=\"row_heading level0 row16\" >used_app_before</th>\n",
       "      <td id=\"T_b23f8_row16_col0\" class=\"data row16 col0\" >0</td>\n",
       "    </tr>\n",
       "    <tr>\n",
       "      <th id=\"T_b23f8_level0_row17\" class=\"row_heading level0 row17\" >result</th>\n",
       "      <td id=\"T_b23f8_row17_col0\" class=\"data row17 col0\" >0</td>\n",
       "    </tr>\n",
       "    <tr>\n",
       "      <th id=\"T_b23f8_level0_row18\" class=\"row_heading level0 row18\" >age_desc</th>\n",
       "      <td id=\"T_b23f8_row18_col0\" class=\"data row18 col0\" >0</td>\n",
       "    </tr>\n",
       "    <tr>\n",
       "      <th id=\"T_b23f8_level0_row19\" class=\"row_heading level0 row19\" >relation</th>\n",
       "      <td id=\"T_b23f8_row19_col0\" class=\"data row19 col0\" >0</td>\n",
       "    </tr>\n",
       "    <tr>\n",
       "      <th id=\"T_b23f8_level0_row20\" class=\"row_heading level0 row20\" >Class/ASD</th>\n",
       "      <td id=\"T_b23f8_row20_col0\" class=\"data row20 col0\" >0</td>\n",
       "    </tr>\n",
       "  </tbody>\n",
       "</table>\n"
      ],
      "text/plain": [
       "<pandas.io.formats.style.Styler at 0x25d98158040>"
      ]
     },
     "execution_count": 6,
     "metadata": {},
     "output_type": "execute_result"
    }
   ],
   "source": [
    "pd.DataFrame(df.isnull().sum(), columns=[\"Missing Values\"]).style.bar(color = \"#84A9AC\")"
   ]
  },
  {
   "cell_type": "code",
   "execution_count": 7,
   "id": "02aadbde",
   "metadata": {},
   "outputs": [
    {
     "name": "stdout",
     "output_type": "stream",
     "text": [
      "Maximum age is data: 11.0\n",
      "\n",
      "Minimum age is data: 4.0\n"
     ]
    }
   ],
   "source": [
    "print(f\"Maximum age is data: {df['age'].max()}\\n\")\n",
    "\n",
    "print(f\"Minimum age is data: {df['age'].min()}\")"
   ]
  },
  {
   "cell_type": "code",
   "execution_count": 8,
   "id": "f77e4d60",
   "metadata": {},
   "outputs": [
    {
     "data": {
      "text/plain": [
       "6.354166666666667"
      ]
     },
     "execution_count": 8,
     "metadata": {},
     "output_type": "execute_result"
    }
   ],
   "source": [
    "np.mean(df['age'])"
   ]
  },
  {
   "cell_type": "code",
   "execution_count": 9,
   "id": "4965feb6",
   "metadata": {},
   "outputs": [
    {
     "data": {
      "text/plain": [
       "array([ 6.,  5.,  4., 11., 10.,  8.,  7.,  9.])"
      ]
     },
     "execution_count": 9,
     "metadata": {},
     "output_type": "execute_result"
    }
   ],
   "source": [
    "df['age']= df['age'].replace(np.nan, 6)\n",
    "df['age'].unique()"
   ]
  },
  {
   "cell_type": "code",
   "execution_count": 10,
   "id": "28067346",
   "metadata": {},
   "outputs": [
    {
     "data": {
      "text/html": [
       "<style type=\"text/css\">\n",
       "#T_a8ddd_row0_col0, #T_a8ddd_row1_col0, #T_a8ddd_row2_col0, #T_a8ddd_row3_col0, #T_a8ddd_row4_col0, #T_a8ddd_row5_col0, #T_a8ddd_row6_col0, #T_a8ddd_row7_col0, #T_a8ddd_row8_col0, #T_a8ddd_row9_col0, #T_a8ddd_row10_col0, #T_a8ddd_row11_col0, #T_a8ddd_row12_col0, #T_a8ddd_row13_col0, #T_a8ddd_row14_col0, #T_a8ddd_row15_col0, #T_a8ddd_row16_col0, #T_a8ddd_row17_col0, #T_a8ddd_row18_col0, #T_a8ddd_row19_col0, #T_a8ddd_row20_col0 {\n",
       "  width: 10em;\n",
       "}\n",
       "</style>\n",
       "<table id=\"T_a8ddd\">\n",
       "  <thead>\n",
       "    <tr>\n",
       "      <th class=\"blank level0\" >&nbsp;</th>\n",
       "      <th id=\"T_a8ddd_level0_col0\" class=\"col_heading level0 col0\" >Missing Values</th>\n",
       "    </tr>\n",
       "  </thead>\n",
       "  <tbody>\n",
       "    <tr>\n",
       "      <th id=\"T_a8ddd_level0_row0\" class=\"row_heading level0 row0\" >A1_Score</th>\n",
       "      <td id=\"T_a8ddd_row0_col0\" class=\"data row0 col0\" >0</td>\n",
       "    </tr>\n",
       "    <tr>\n",
       "      <th id=\"T_a8ddd_level0_row1\" class=\"row_heading level0 row1\" >A2_Score</th>\n",
       "      <td id=\"T_a8ddd_row1_col0\" class=\"data row1 col0\" >0</td>\n",
       "    </tr>\n",
       "    <tr>\n",
       "      <th id=\"T_a8ddd_level0_row2\" class=\"row_heading level0 row2\" >A3_Score</th>\n",
       "      <td id=\"T_a8ddd_row2_col0\" class=\"data row2 col0\" >0</td>\n",
       "    </tr>\n",
       "    <tr>\n",
       "      <th id=\"T_a8ddd_level0_row3\" class=\"row_heading level0 row3\" >A4_Score</th>\n",
       "      <td id=\"T_a8ddd_row3_col0\" class=\"data row3 col0\" >0</td>\n",
       "    </tr>\n",
       "    <tr>\n",
       "      <th id=\"T_a8ddd_level0_row4\" class=\"row_heading level0 row4\" >A5_Score</th>\n",
       "      <td id=\"T_a8ddd_row4_col0\" class=\"data row4 col0\" >0</td>\n",
       "    </tr>\n",
       "    <tr>\n",
       "      <th id=\"T_a8ddd_level0_row5\" class=\"row_heading level0 row5\" >A6_Score</th>\n",
       "      <td id=\"T_a8ddd_row5_col0\" class=\"data row5 col0\" >0</td>\n",
       "    </tr>\n",
       "    <tr>\n",
       "      <th id=\"T_a8ddd_level0_row6\" class=\"row_heading level0 row6\" >A7_Score</th>\n",
       "      <td id=\"T_a8ddd_row6_col0\" class=\"data row6 col0\" >0</td>\n",
       "    </tr>\n",
       "    <tr>\n",
       "      <th id=\"T_a8ddd_level0_row7\" class=\"row_heading level0 row7\" >A8_Score</th>\n",
       "      <td id=\"T_a8ddd_row7_col0\" class=\"data row7 col0\" >0</td>\n",
       "    </tr>\n",
       "    <tr>\n",
       "      <th id=\"T_a8ddd_level0_row8\" class=\"row_heading level0 row8\" >A9_Score</th>\n",
       "      <td id=\"T_a8ddd_row8_col0\" class=\"data row8 col0\" >0</td>\n",
       "    </tr>\n",
       "    <tr>\n",
       "      <th id=\"T_a8ddd_level0_row9\" class=\"row_heading level0 row9\" >A10_Score</th>\n",
       "      <td id=\"T_a8ddd_row9_col0\" class=\"data row9 col0\" >0</td>\n",
       "    </tr>\n",
       "    <tr>\n",
       "      <th id=\"T_a8ddd_level0_row10\" class=\"row_heading level0 row10\" >age</th>\n",
       "      <td id=\"T_a8ddd_row10_col0\" class=\"data row10 col0\" >0</td>\n",
       "    </tr>\n",
       "    <tr>\n",
       "      <th id=\"T_a8ddd_level0_row11\" class=\"row_heading level0 row11\" >gender</th>\n",
       "      <td id=\"T_a8ddd_row11_col0\" class=\"data row11 col0\" >0</td>\n",
       "    </tr>\n",
       "    <tr>\n",
       "      <th id=\"T_a8ddd_level0_row12\" class=\"row_heading level0 row12\" >ethnicity</th>\n",
       "      <td id=\"T_a8ddd_row12_col0\" class=\"data row12 col0\" >0</td>\n",
       "    </tr>\n",
       "    <tr>\n",
       "      <th id=\"T_a8ddd_level0_row13\" class=\"row_heading level0 row13\" >jundice</th>\n",
       "      <td id=\"T_a8ddd_row13_col0\" class=\"data row13 col0\" >0</td>\n",
       "    </tr>\n",
       "    <tr>\n",
       "      <th id=\"T_a8ddd_level0_row14\" class=\"row_heading level0 row14\" >austim</th>\n",
       "      <td id=\"T_a8ddd_row14_col0\" class=\"data row14 col0\" >0</td>\n",
       "    </tr>\n",
       "    <tr>\n",
       "      <th id=\"T_a8ddd_level0_row15\" class=\"row_heading level0 row15\" >contry_of_res</th>\n",
       "      <td id=\"T_a8ddd_row15_col0\" class=\"data row15 col0\" >0</td>\n",
       "    </tr>\n",
       "    <tr>\n",
       "      <th id=\"T_a8ddd_level0_row16\" class=\"row_heading level0 row16\" >used_app_before</th>\n",
       "      <td id=\"T_a8ddd_row16_col0\" class=\"data row16 col0\" >0</td>\n",
       "    </tr>\n",
       "    <tr>\n",
       "      <th id=\"T_a8ddd_level0_row17\" class=\"row_heading level0 row17\" >result</th>\n",
       "      <td id=\"T_a8ddd_row17_col0\" class=\"data row17 col0\" >0</td>\n",
       "    </tr>\n",
       "    <tr>\n",
       "      <th id=\"T_a8ddd_level0_row18\" class=\"row_heading level0 row18\" >age_desc</th>\n",
       "      <td id=\"T_a8ddd_row18_col0\" class=\"data row18 col0\" >0</td>\n",
       "    </tr>\n",
       "    <tr>\n",
       "      <th id=\"T_a8ddd_level0_row19\" class=\"row_heading level0 row19\" >relation</th>\n",
       "      <td id=\"T_a8ddd_row19_col0\" class=\"data row19 col0\" >0</td>\n",
       "    </tr>\n",
       "    <tr>\n",
       "      <th id=\"T_a8ddd_level0_row20\" class=\"row_heading level0 row20\" >Class/ASD</th>\n",
       "      <td id=\"T_a8ddd_row20_col0\" class=\"data row20 col0\" >0</td>\n",
       "    </tr>\n",
       "  </tbody>\n",
       "</table>\n"
      ],
      "text/plain": [
       "<pandas.io.formats.style.Styler at 0x25d9faa2310>"
      ]
     },
     "execution_count": 10,
     "metadata": {},
     "output_type": "execute_result"
    }
   ],
   "source": [
    "pd.DataFrame(df.isnull().sum(), columns=[\"Missing Values\"]).style.bar(color = \"#84A9AC\")"
   ]
  },
  {
   "cell_type": "code",
   "execution_count": 11,
   "id": "0e3f4c7d",
   "metadata": {},
   "outputs": [
    {
     "name": "stdout",
     "output_type": "stream",
     "text": [
      "-------------------------------\n",
      "Column name: gender\n",
      "\n",
      "Unique values:\n",
      "['m' 'f']\n",
      "\n",
      "\n",
      "-------------------------------\n",
      "Column name: ethnicity\n",
      "\n",
      "Unique values:\n",
      "['Others' \"'Middle Eastern '\" '?' 'White-European' 'Black' \"'South Asian'\"\n",
      " 'Asian' 'Pasifika' 'Hispanic' 'Turkish' 'Latino']\n",
      "\n",
      "\n",
      "-------------------------------\n",
      "Column name: jundice\n",
      "\n",
      "Unique values:\n",
      "['no' 'yes']\n",
      "\n",
      "\n",
      "-------------------------------\n",
      "Column name: austim\n",
      "\n",
      "Unique values:\n",
      "['no' 'yes']\n",
      "\n",
      "\n",
      "-------------------------------\n",
      "Column name: contry_of_res\n",
      "\n",
      "Unique values:\n",
      "['Jordan' \"'United States'\" 'Egypt' \"'United Kingdom'\" 'Bahrain' 'Austria'\n",
      " 'Kuwait' \"'United Arab Emirates'\" 'Europe' 'Malta' 'Bulgaria'\n",
      " \"'South Africa'\" 'India' 'Afghanistan' 'Georgia' \"'New Zealand'\" 'Syria'\n",
      " 'Iraq' 'Australia' \"'Saudi Arabia'\" 'Armenia' 'Turkey' 'Pakistan'\n",
      " 'Canada' 'Oman' 'Brazil' \"'South Korea'\" \"'Costa Rica'\" 'Sweden'\n",
      " 'Philippines' 'Malaysia' 'Argentina' 'Japan' 'Bangladesh' 'Qatar'\n",
      " 'Ireland' 'Romania' 'Netherlands' 'Lebanon' 'Germany' 'Latvia' 'Russia'\n",
      " 'Italy' 'China' 'Nigeria' \"'U.S. Outlying Islands'\" 'Nepal' 'Mexico'\n",
      " \"'Isle of Man'\" 'Libya' 'Ghana' 'Bhutan']\n",
      "\n",
      "\n",
      "-------------------------------\n",
      "Column name: used_app_before\n",
      "\n",
      "Unique values:\n",
      "['no' 'yes']\n",
      "\n",
      "\n",
      "-------------------------------\n",
      "Column name: age_desc\n",
      "\n",
      "Unique values:\n",
      "[\"'4-11 years'\"]\n",
      "\n",
      "\n",
      "-------------------------------\n",
      "Column name: relation\n",
      "\n",
      "Unique values:\n",
      "['Parent' '?' 'Self' 'Relative' \"'Health care professional'\" 'self']\n",
      "\n",
      "\n",
      "-------------------------------\n",
      "Column name: Class/ASD\n",
      "\n",
      "Unique values:\n",
      "['NO' 'YES']\n",
      "\n",
      "\n"
     ]
    }
   ],
   "source": [
    "for col in df.select_dtypes('O').columns:\n",
    "    print(\"-------------------------------\")\n",
    "    print(f'Column name: {col}\\n')\n",
    "    print(f'Unique values:\\n{df[col].unique()}\\n\\n')"
   ]
  },
  {
   "cell_type": "code",
   "execution_count": 12,
   "id": "11f9290c",
   "metadata": {},
   "outputs": [],
   "source": [
    "df['ethnicity'] = df['ethnicity'].replace('?', 'Others')"
   ]
  },
  {
   "cell_type": "code",
   "execution_count": null,
   "id": "9c093cf9",
   "metadata": {},
   "outputs": [],
   "source": []
  },
  {
   "cell_type": "code",
   "execution_count": 13,
   "id": "7fc6af7b",
   "metadata": {},
   "outputs": [
    {
     "data": {
      "text/plain": [
       "array(['Others', \"'Middle Eastern '\", 'White-European', 'Black',\n",
       "       \"'South Asian'\", 'Asian', 'Pasifika', 'Hispanic', 'Turkish',\n",
       "       'Latino'], dtype=object)"
      ]
     },
     "execution_count": 13,
     "metadata": {},
     "output_type": "execute_result"
    }
   ],
   "source": [
    "df['ethnicity'].unique()"
   ]
  },
  {
   "cell_type": "code",
   "execution_count": 14,
   "id": "e7bf217b",
   "metadata": {},
   "outputs": [],
   "source": [
    "df['relation'] = df['relation'].replace('?', df['relation'].mode()[0])"
   ]
  },
  {
   "cell_type": "code",
   "execution_count": 15,
   "id": "34fe3a16",
   "metadata": {},
   "outputs": [
    {
     "data": {
      "text/plain": [
       "array(['Parent', 'Self', 'Relative', \"'Health care professional'\", 'self'],\n",
       "      dtype=object)"
      ]
     },
     "execution_count": 15,
     "metadata": {},
     "output_type": "execute_result"
    }
   ],
   "source": [
    "df['relation'].unique()"
   ]
  },
  {
   "cell_type": "code",
   "execution_count": 16,
   "id": "5a40c022",
   "metadata": {},
   "outputs": [
    {
     "data": {
      "text/html": [
       "<div>\n",
       "<style scoped>\n",
       "    .dataframe tbody tr th:only-of-type {\n",
       "        vertical-align: middle;\n",
       "    }\n",
       "\n",
       "    .dataframe tbody tr th {\n",
       "        vertical-align: top;\n",
       "    }\n",
       "\n",
       "    .dataframe thead th {\n",
       "        text-align: right;\n",
       "    }\n",
       "</style>\n",
       "<table border=\"1\" class=\"dataframe\">\n",
       "  <thead>\n",
       "    <tr style=\"text-align: right;\">\n",
       "      <th></th>\n",
       "      <th>A1_Score</th>\n",
       "      <th>A2_Score</th>\n",
       "      <th>A3_Score</th>\n",
       "      <th>A4_Score</th>\n",
       "      <th>A5_Score</th>\n",
       "      <th>A6_Score</th>\n",
       "      <th>A7_Score</th>\n",
       "      <th>A8_Score</th>\n",
       "      <th>A9_Score</th>\n",
       "      <th>A10_Score</th>\n",
       "      <th>age</th>\n",
       "      <th>gender</th>\n",
       "      <th>ethnicity</th>\n",
       "      <th>jundice</th>\n",
       "      <th>austim</th>\n",
       "      <th>contry_of_res</th>\n",
       "      <th>used_app_before</th>\n",
       "      <th>result</th>\n",
       "      <th>age_desc</th>\n",
       "      <th>relation</th>\n",
       "      <th>Class/ASD</th>\n",
       "    </tr>\n",
       "  </thead>\n",
       "  <tbody>\n",
       "    <tr>\n",
       "      <th>0</th>\n",
       "      <td>1</td>\n",
       "      <td>1</td>\n",
       "      <td>0</td>\n",
       "      <td>0</td>\n",
       "      <td>1</td>\n",
       "      <td>1</td>\n",
       "      <td>0</td>\n",
       "      <td>1</td>\n",
       "      <td>0</td>\n",
       "      <td>0</td>\n",
       "      <td>6.0</td>\n",
       "      <td>m</td>\n",
       "      <td>Others</td>\n",
       "      <td>no</td>\n",
       "      <td>no</td>\n",
       "      <td>Jordan</td>\n",
       "      <td>no</td>\n",
       "      <td>5</td>\n",
       "      <td>'4-11 years'</td>\n",
       "      <td>Parent</td>\n",
       "      <td>NO</td>\n",
       "    </tr>\n",
       "    <tr>\n",
       "      <th>1</th>\n",
       "      <td>1</td>\n",
       "      <td>1</td>\n",
       "      <td>0</td>\n",
       "      <td>0</td>\n",
       "      <td>1</td>\n",
       "      <td>1</td>\n",
       "      <td>0</td>\n",
       "      <td>1</td>\n",
       "      <td>0</td>\n",
       "      <td>0</td>\n",
       "      <td>6.0</td>\n",
       "      <td>m</td>\n",
       "      <td>'Middle Eastern '</td>\n",
       "      <td>no</td>\n",
       "      <td>no</td>\n",
       "      <td>Jordan</td>\n",
       "      <td>no</td>\n",
       "      <td>5</td>\n",
       "      <td>'4-11 years'</td>\n",
       "      <td>Parent</td>\n",
       "      <td>NO</td>\n",
       "    </tr>\n",
       "    <tr>\n",
       "      <th>2</th>\n",
       "      <td>1</td>\n",
       "      <td>1</td>\n",
       "      <td>0</td>\n",
       "      <td>0</td>\n",
       "      <td>0</td>\n",
       "      <td>1</td>\n",
       "      <td>1</td>\n",
       "      <td>1</td>\n",
       "      <td>0</td>\n",
       "      <td>0</td>\n",
       "      <td>6.0</td>\n",
       "      <td>m</td>\n",
       "      <td>Others</td>\n",
       "      <td>no</td>\n",
       "      <td>no</td>\n",
       "      <td>Jordan</td>\n",
       "      <td>yes</td>\n",
       "      <td>5</td>\n",
       "      <td>'4-11 years'</td>\n",
       "      <td>Parent</td>\n",
       "      <td>NO</td>\n",
       "    </tr>\n",
       "    <tr>\n",
       "      <th>3</th>\n",
       "      <td>0</td>\n",
       "      <td>1</td>\n",
       "      <td>0</td>\n",
       "      <td>0</td>\n",
       "      <td>1</td>\n",
       "      <td>1</td>\n",
       "      <td>0</td>\n",
       "      <td>0</td>\n",
       "      <td>0</td>\n",
       "      <td>1</td>\n",
       "      <td>5.0</td>\n",
       "      <td>f</td>\n",
       "      <td>Others</td>\n",
       "      <td>yes</td>\n",
       "      <td>no</td>\n",
       "      <td>Jordan</td>\n",
       "      <td>no</td>\n",
       "      <td>4</td>\n",
       "      <td>'4-11 years'</td>\n",
       "      <td>Parent</td>\n",
       "      <td>NO</td>\n",
       "    </tr>\n",
       "    <tr>\n",
       "      <th>4</th>\n",
       "      <td>1</td>\n",
       "      <td>1</td>\n",
       "      <td>1</td>\n",
       "      <td>1</td>\n",
       "      <td>1</td>\n",
       "      <td>1</td>\n",
       "      <td>1</td>\n",
       "      <td>1</td>\n",
       "      <td>1</td>\n",
       "      <td>1</td>\n",
       "      <td>5.0</td>\n",
       "      <td>m</td>\n",
       "      <td>Others</td>\n",
       "      <td>yes</td>\n",
       "      <td>no</td>\n",
       "      <td>'United States'</td>\n",
       "      <td>no</td>\n",
       "      <td>10</td>\n",
       "      <td>'4-11 years'</td>\n",
       "      <td>Parent</td>\n",
       "      <td>YES</td>\n",
       "    </tr>\n",
       "  </tbody>\n",
       "</table>\n",
       "</div>"
      ],
      "text/plain": [
       "   A1_Score  A2_Score  A3_Score  A4_Score  A5_Score  A6_Score  A7_Score  \\\n",
       "0         1         1         0         0         1         1         0   \n",
       "1         1         1         0         0         1         1         0   \n",
       "2         1         1         0         0         0         1         1   \n",
       "3         0         1         0         0         1         1         0   \n",
       "4         1         1         1         1         1         1         1   \n",
       "\n",
       "   A8_Score  A9_Score  A10_Score  age gender          ethnicity jundice  \\\n",
       "0         1         0          0  6.0      m             Others      no   \n",
       "1         1         0          0  6.0      m  'Middle Eastern '      no   \n",
       "2         1         0          0  6.0      m             Others      no   \n",
       "3         0         0          1  5.0      f             Others     yes   \n",
       "4         1         1          1  5.0      m             Others     yes   \n",
       "\n",
       "  austim    contry_of_res used_app_before  result      age_desc relation  \\\n",
       "0     no           Jordan              no       5  '4-11 years'   Parent   \n",
       "1     no           Jordan              no       5  '4-11 years'   Parent   \n",
       "2     no           Jordan             yes       5  '4-11 years'   Parent   \n",
       "3     no           Jordan              no       4  '4-11 years'   Parent   \n",
       "4     no  'United States'              no      10  '4-11 years'   Parent   \n",
       "\n",
       "  Class/ASD  \n",
       "0        NO  \n",
       "1        NO  \n",
       "2        NO  \n",
       "3        NO  \n",
       "4       YES  "
      ]
     },
     "execution_count": 16,
     "metadata": {},
     "output_type": "execute_result"
    }
   ],
   "source": [
    "df.head()"
   ]
  },
  {
   "cell_type": "code",
   "execution_count": 17,
   "id": "85c2525a",
   "metadata": {},
   "outputs": [],
   "source": [
    "from sklearn.preprocessing import LabelEncoder\n",
    "le= LabelEncoder()"
   ]
  },
  {
   "cell_type": "code",
   "execution_count": null,
   "id": "fdb25e52",
   "metadata": {},
   "outputs": [],
   "source": []
  },
  {
   "cell_type": "code",
   "execution_count": 18,
   "id": "be2410bf",
   "metadata": {},
   "outputs": [],
   "source": [
    "df['age_desc'] = le.fit_transform(df['age_desc'])"
   ]
  },
  {
   "cell_type": "code",
   "execution_count": 19,
   "id": "5fce809c",
   "metadata": {},
   "outputs": [
    {
     "data": {
      "text/plain": [
       "array(['m', 'f'], dtype=object)"
      ]
     },
     "execution_count": 19,
     "metadata": {},
     "output_type": "execute_result"
    }
   ],
   "source": [
    "df['gender'].unique()"
   ]
  },
  {
   "cell_type": "code",
   "execution_count": 20,
   "id": "f34a39df",
   "metadata": {},
   "outputs": [],
   "source": [
    "df['gender']= df['gender'].apply(lambda x: 1 if x == 'm' else (0 if x == 'f' else None))"
   ]
  },
  {
   "cell_type": "code",
   "execution_count": 21,
   "id": "e1d803c4",
   "metadata": {},
   "outputs": [
    {
     "data": {
      "text/plain": [
       "array(['no', 'yes'], dtype=object)"
      ]
     },
     "execution_count": 21,
     "metadata": {},
     "output_type": "execute_result"
    }
   ],
   "source": [
    "df['jundice'].unique()"
   ]
  },
  {
   "cell_type": "code",
   "execution_count": 22,
   "id": "d7d398b4",
   "metadata": {},
   "outputs": [],
   "source": [
    "df['jundice']= df['jundice'].apply(lambda x: 1 if x == 'yes' else (0 if x == 'no' else None))"
   ]
  },
  {
   "cell_type": "code",
   "execution_count": 23,
   "id": "66f2b251",
   "metadata": {},
   "outputs": [
    {
     "data": {
      "text/plain": [
       "array(['no', 'yes'], dtype=object)"
      ]
     },
     "execution_count": 23,
     "metadata": {},
     "output_type": "execute_result"
    }
   ],
   "source": [
    "df['austim'].unique()"
   ]
  },
  {
   "cell_type": "code",
   "execution_count": 24,
   "id": "8e93495f",
   "metadata": {},
   "outputs": [],
   "source": [
    "df['austim']= df['austim'].apply(lambda x: 1 if x == 'yes' else (0 if x == 'no' else None))"
   ]
  },
  {
   "cell_type": "code",
   "execution_count": 25,
   "id": "8923a90e",
   "metadata": {},
   "outputs": [
    {
     "data": {
      "text/plain": [
       "array(['Jordan', \"'United States'\", 'Egypt', \"'United Kingdom'\",\n",
       "       'Bahrain', 'Austria', 'Kuwait', \"'United Arab Emirates'\", 'Europe',\n",
       "       'Malta', 'Bulgaria', \"'South Africa'\", 'India', 'Afghanistan',\n",
       "       'Georgia', \"'New Zealand'\", 'Syria', 'Iraq', 'Australia',\n",
       "       \"'Saudi Arabia'\", 'Armenia', 'Turkey', 'Pakistan', 'Canada',\n",
       "       'Oman', 'Brazil', \"'South Korea'\", \"'Costa Rica'\", 'Sweden',\n",
       "       'Philippines', 'Malaysia', 'Argentina', 'Japan', 'Bangladesh',\n",
       "       'Qatar', 'Ireland', 'Romania', 'Netherlands', 'Lebanon', 'Germany',\n",
       "       'Latvia', 'Russia', 'Italy', 'China', 'Nigeria',\n",
       "       \"'U.S. Outlying Islands'\", 'Nepal', 'Mexico', \"'Isle of Man'\",\n",
       "       'Libya', 'Ghana', 'Bhutan'], dtype=object)"
      ]
     },
     "execution_count": 25,
     "metadata": {},
     "output_type": "execute_result"
    }
   ],
   "source": [
    "df['contry_of_res'].unique()"
   ]
  },
  {
   "cell_type": "code",
   "execution_count": 26,
   "id": "75c7e827",
   "metadata": {},
   "outputs": [],
   "source": [
    "df['contry_of_res'] = le.fit_transform(df['contry_of_res'])"
   ]
  },
  {
   "cell_type": "code",
   "execution_count": 27,
   "id": "ae56d890",
   "metadata": {},
   "outputs": [],
   "source": [
    "df['used_app_before'] = le.fit_transform(df['used_app_before'])"
   ]
  },
  {
   "cell_type": "code",
   "execution_count": 28,
   "id": "7c2432a6",
   "metadata": {},
   "outputs": [],
   "source": [
    "df['relation'] = le.fit_transform(df['relation'])"
   ]
  },
  {
   "cell_type": "code",
   "execution_count": 29,
   "id": "116e182a",
   "metadata": {},
   "outputs": [],
   "source": [
    "df['ethnicity'] = le.fit_transform(df['ethnicity'])"
   ]
  },
  {
   "cell_type": "code",
   "execution_count": 30,
   "id": "b64c7dbb",
   "metadata": {},
   "outputs": [],
   "source": [
    "df['relation'] = le.fit_transform(df['relation'])"
   ]
  },
  {
   "cell_type": "code",
   "execution_count": 31,
   "id": "aea6f09a",
   "metadata": {},
   "outputs": [
    {
     "data": {
      "text/plain": [
       "array(['NO', 'YES'], dtype=object)"
      ]
     },
     "execution_count": 31,
     "metadata": {},
     "output_type": "execute_result"
    }
   ],
   "source": [
    "df['Class/ASD'].unique()"
   ]
  },
  {
   "cell_type": "code",
   "execution_count": 32,
   "id": "bbf3f47b",
   "metadata": {},
   "outputs": [],
   "source": [
    "df['Class/ASD']= df['Class/ASD'].apply(lambda x: 1 if x == 'YES' else (0 if x == 'NO' else None))"
   ]
  },
  {
   "cell_type": "code",
   "execution_count": 33,
   "id": "e3185227",
   "metadata": {},
   "outputs": [
    {
     "data": {
      "text/html": [
       "<div>\n",
       "<style scoped>\n",
       "    .dataframe tbody tr th:only-of-type {\n",
       "        vertical-align: middle;\n",
       "    }\n",
       "\n",
       "    .dataframe tbody tr th {\n",
       "        vertical-align: top;\n",
       "    }\n",
       "\n",
       "    .dataframe thead th {\n",
       "        text-align: right;\n",
       "    }\n",
       "</style>\n",
       "<table border=\"1\" class=\"dataframe\">\n",
       "  <thead>\n",
       "    <tr style=\"text-align: right;\">\n",
       "      <th></th>\n",
       "      <th>A1_Score</th>\n",
       "      <th>A2_Score</th>\n",
       "      <th>A3_Score</th>\n",
       "      <th>A4_Score</th>\n",
       "      <th>A5_Score</th>\n",
       "      <th>A6_Score</th>\n",
       "      <th>A7_Score</th>\n",
       "      <th>A8_Score</th>\n",
       "      <th>A9_Score</th>\n",
       "      <th>A10_Score</th>\n",
       "      <th>age</th>\n",
       "      <th>gender</th>\n",
       "      <th>ethnicity</th>\n",
       "      <th>jundice</th>\n",
       "      <th>austim</th>\n",
       "      <th>contry_of_res</th>\n",
       "      <th>used_app_before</th>\n",
       "      <th>result</th>\n",
       "      <th>age_desc</th>\n",
       "      <th>relation</th>\n",
       "      <th>Class/ASD</th>\n",
       "    </tr>\n",
       "  </thead>\n",
       "  <tbody>\n",
       "    <tr>\n",
       "      <th>0</th>\n",
       "      <td>1</td>\n",
       "      <td>1</td>\n",
       "      <td>0</td>\n",
       "      <td>0</td>\n",
       "      <td>1</td>\n",
       "      <td>1</td>\n",
       "      <td>0</td>\n",
       "      <td>1</td>\n",
       "      <td>0</td>\n",
       "      <td>0</td>\n",
       "      <td>6.0</td>\n",
       "      <td>1</td>\n",
       "      <td>6</td>\n",
       "      <td>0</td>\n",
       "      <td>0</td>\n",
       "      <td>32</td>\n",
       "      <td>0</td>\n",
       "      <td>5</td>\n",
       "      <td>0</td>\n",
       "      <td>1</td>\n",
       "      <td>0</td>\n",
       "    </tr>\n",
       "    <tr>\n",
       "      <th>1</th>\n",
       "      <td>1</td>\n",
       "      <td>1</td>\n",
       "      <td>0</td>\n",
       "      <td>0</td>\n",
       "      <td>1</td>\n",
       "      <td>1</td>\n",
       "      <td>0</td>\n",
       "      <td>1</td>\n",
       "      <td>0</td>\n",
       "      <td>0</td>\n",
       "      <td>6.0</td>\n",
       "      <td>1</td>\n",
       "      <td>0</td>\n",
       "      <td>0</td>\n",
       "      <td>0</td>\n",
       "      <td>32</td>\n",
       "      <td>0</td>\n",
       "      <td>5</td>\n",
       "      <td>0</td>\n",
       "      <td>1</td>\n",
       "      <td>0</td>\n",
       "    </tr>\n",
       "    <tr>\n",
       "      <th>2</th>\n",
       "      <td>1</td>\n",
       "      <td>1</td>\n",
       "      <td>0</td>\n",
       "      <td>0</td>\n",
       "      <td>0</td>\n",
       "      <td>1</td>\n",
       "      <td>1</td>\n",
       "      <td>1</td>\n",
       "      <td>0</td>\n",
       "      <td>0</td>\n",
       "      <td>6.0</td>\n",
       "      <td>1</td>\n",
       "      <td>6</td>\n",
       "      <td>0</td>\n",
       "      <td>0</td>\n",
       "      <td>32</td>\n",
       "      <td>1</td>\n",
       "      <td>5</td>\n",
       "      <td>0</td>\n",
       "      <td>1</td>\n",
       "      <td>0</td>\n",
       "    </tr>\n",
       "    <tr>\n",
       "      <th>3</th>\n",
       "      <td>0</td>\n",
       "      <td>1</td>\n",
       "      <td>0</td>\n",
       "      <td>0</td>\n",
       "      <td>1</td>\n",
       "      <td>1</td>\n",
       "      <td>0</td>\n",
       "      <td>0</td>\n",
       "      <td>0</td>\n",
       "      <td>1</td>\n",
       "      <td>5.0</td>\n",
       "      <td>0</td>\n",
       "      <td>6</td>\n",
       "      <td>1</td>\n",
       "      <td>0</td>\n",
       "      <td>32</td>\n",
       "      <td>0</td>\n",
       "      <td>4</td>\n",
       "      <td>0</td>\n",
       "      <td>1</td>\n",
       "      <td>0</td>\n",
       "    </tr>\n",
       "    <tr>\n",
       "      <th>4</th>\n",
       "      <td>1</td>\n",
       "      <td>1</td>\n",
       "      <td>1</td>\n",
       "      <td>1</td>\n",
       "      <td>1</td>\n",
       "      <td>1</td>\n",
       "      <td>1</td>\n",
       "      <td>1</td>\n",
       "      <td>1</td>\n",
       "      <td>1</td>\n",
       "      <td>5.0</td>\n",
       "      <td>1</td>\n",
       "      <td>6</td>\n",
       "      <td>1</td>\n",
       "      <td>0</td>\n",
       "      <td>9</td>\n",
       "      <td>0</td>\n",
       "      <td>10</td>\n",
       "      <td>0</td>\n",
       "      <td>1</td>\n",
       "      <td>1</td>\n",
       "    </tr>\n",
       "  </tbody>\n",
       "</table>\n",
       "</div>"
      ],
      "text/plain": [
       "   A1_Score  A2_Score  A3_Score  A4_Score  A5_Score  A6_Score  A7_Score  \\\n",
       "0         1         1         0         0         1         1         0   \n",
       "1         1         1         0         0         1         1         0   \n",
       "2         1         1         0         0         0         1         1   \n",
       "3         0         1         0         0         1         1         0   \n",
       "4         1         1         1         1         1         1         1   \n",
       "\n",
       "   A8_Score  A9_Score  A10_Score  age  gender  ethnicity  jundice  austim  \\\n",
       "0         1         0          0  6.0       1          6        0       0   \n",
       "1         1         0          0  6.0       1          0        0       0   \n",
       "2         1         0          0  6.0       1          6        0       0   \n",
       "3         0         0          1  5.0       0          6        1       0   \n",
       "4         1         1          1  5.0       1          6        1       0   \n",
       "\n",
       "   contry_of_res  used_app_before  result  age_desc  relation  Class/ASD  \n",
       "0             32                0       5         0         1          0  \n",
       "1             32                0       5         0         1          0  \n",
       "2             32                1       5         0         1          0  \n",
       "3             32                0       4         0         1          0  \n",
       "4              9                0      10         0         1          1  "
      ]
     },
     "execution_count": 33,
     "metadata": {},
     "output_type": "execute_result"
    }
   ],
   "source": [
    "df.head()"
   ]
  },
  {
   "cell_type": "code",
   "execution_count": 34,
   "id": "aef95deb",
   "metadata": {},
   "outputs": [
    {
     "data": {
      "text/html": [
       "<div>\n",
       "<style scoped>\n",
       "    .dataframe tbody tr th:only-of-type {\n",
       "        vertical-align: middle;\n",
       "    }\n",
       "\n",
       "    .dataframe tbody tr th {\n",
       "        vertical-align: top;\n",
       "    }\n",
       "\n",
       "    .dataframe thead th {\n",
       "        text-align: right;\n",
       "    }\n",
       "</style>\n",
       "<table border=\"1\" class=\"dataframe\">\n",
       "  <thead>\n",
       "    <tr style=\"text-align: right;\">\n",
       "      <th></th>\n",
       "      <th>A1_Score</th>\n",
       "      <th>A2_Score</th>\n",
       "      <th>A3_Score</th>\n",
       "      <th>A4_Score</th>\n",
       "      <th>A5_Score</th>\n",
       "      <th>A6_Score</th>\n",
       "      <th>A7_Score</th>\n",
       "      <th>A8_Score</th>\n",
       "      <th>A9_Score</th>\n",
       "      <th>A10_Score</th>\n",
       "      <th>age</th>\n",
       "      <th>gender</th>\n",
       "      <th>ethnicity</th>\n",
       "      <th>jundice</th>\n",
       "      <th>austim</th>\n",
       "      <th>contry_of_res</th>\n",
       "      <th>used_app_before</th>\n",
       "      <th>result</th>\n",
       "      <th>age_desc</th>\n",
       "      <th>relation</th>\n",
       "    </tr>\n",
       "  </thead>\n",
       "  <tbody>\n",
       "    <tr>\n",
       "      <th>0</th>\n",
       "      <td>1</td>\n",
       "      <td>1</td>\n",
       "      <td>0</td>\n",
       "      <td>0</td>\n",
       "      <td>1</td>\n",
       "      <td>1</td>\n",
       "      <td>0</td>\n",
       "      <td>1</td>\n",
       "      <td>0</td>\n",
       "      <td>0</td>\n",
       "      <td>6.0</td>\n",
       "      <td>1</td>\n",
       "      <td>6</td>\n",
       "      <td>0</td>\n",
       "      <td>0</td>\n",
       "      <td>32</td>\n",
       "      <td>0</td>\n",
       "      <td>5</td>\n",
       "      <td>0</td>\n",
       "      <td>1</td>\n",
       "    </tr>\n",
       "    <tr>\n",
       "      <th>1</th>\n",
       "      <td>1</td>\n",
       "      <td>1</td>\n",
       "      <td>0</td>\n",
       "      <td>0</td>\n",
       "      <td>1</td>\n",
       "      <td>1</td>\n",
       "      <td>0</td>\n",
       "      <td>1</td>\n",
       "      <td>0</td>\n",
       "      <td>0</td>\n",
       "      <td>6.0</td>\n",
       "      <td>1</td>\n",
       "      <td>0</td>\n",
       "      <td>0</td>\n",
       "      <td>0</td>\n",
       "      <td>32</td>\n",
       "      <td>0</td>\n",
       "      <td>5</td>\n",
       "      <td>0</td>\n",
       "      <td>1</td>\n",
       "    </tr>\n",
       "    <tr>\n",
       "      <th>2</th>\n",
       "      <td>1</td>\n",
       "      <td>1</td>\n",
       "      <td>0</td>\n",
       "      <td>0</td>\n",
       "      <td>0</td>\n",
       "      <td>1</td>\n",
       "      <td>1</td>\n",
       "      <td>1</td>\n",
       "      <td>0</td>\n",
       "      <td>0</td>\n",
       "      <td>6.0</td>\n",
       "      <td>1</td>\n",
       "      <td>6</td>\n",
       "      <td>0</td>\n",
       "      <td>0</td>\n",
       "      <td>32</td>\n",
       "      <td>1</td>\n",
       "      <td>5</td>\n",
       "      <td>0</td>\n",
       "      <td>1</td>\n",
       "    </tr>\n",
       "    <tr>\n",
       "      <th>3</th>\n",
       "      <td>0</td>\n",
       "      <td>1</td>\n",
       "      <td>0</td>\n",
       "      <td>0</td>\n",
       "      <td>1</td>\n",
       "      <td>1</td>\n",
       "      <td>0</td>\n",
       "      <td>0</td>\n",
       "      <td>0</td>\n",
       "      <td>1</td>\n",
       "      <td>5.0</td>\n",
       "      <td>0</td>\n",
       "      <td>6</td>\n",
       "      <td>1</td>\n",
       "      <td>0</td>\n",
       "      <td>32</td>\n",
       "      <td>0</td>\n",
       "      <td>4</td>\n",
       "      <td>0</td>\n",
       "      <td>1</td>\n",
       "    </tr>\n",
       "    <tr>\n",
       "      <th>4</th>\n",
       "      <td>1</td>\n",
       "      <td>1</td>\n",
       "      <td>1</td>\n",
       "      <td>1</td>\n",
       "      <td>1</td>\n",
       "      <td>1</td>\n",
       "      <td>1</td>\n",
       "      <td>1</td>\n",
       "      <td>1</td>\n",
       "      <td>1</td>\n",
       "      <td>5.0</td>\n",
       "      <td>1</td>\n",
       "      <td>6</td>\n",
       "      <td>1</td>\n",
       "      <td>0</td>\n",
       "      <td>9</td>\n",
       "      <td>0</td>\n",
       "      <td>10</td>\n",
       "      <td>0</td>\n",
       "      <td>1</td>\n",
       "    </tr>\n",
       "    <tr>\n",
       "      <th>...</th>\n",
       "      <td>...</td>\n",
       "      <td>...</td>\n",
       "      <td>...</td>\n",
       "      <td>...</td>\n",
       "      <td>...</td>\n",
       "      <td>...</td>\n",
       "      <td>...</td>\n",
       "      <td>...</td>\n",
       "      <td>...</td>\n",
       "      <td>...</td>\n",
       "      <td>...</td>\n",
       "      <td>...</td>\n",
       "      <td>...</td>\n",
       "      <td>...</td>\n",
       "      <td>...</td>\n",
       "      <td>...</td>\n",
       "      <td>...</td>\n",
       "      <td>...</td>\n",
       "      <td>...</td>\n",
       "      <td>...</td>\n",
       "    </tr>\n",
       "    <tr>\n",
       "      <th>287</th>\n",
       "      <td>1</td>\n",
       "      <td>1</td>\n",
       "      <td>1</td>\n",
       "      <td>1</td>\n",
       "      <td>1</td>\n",
       "      <td>1</td>\n",
       "      <td>1</td>\n",
       "      <td>1</td>\n",
       "      <td>1</td>\n",
       "      <td>1</td>\n",
       "      <td>7.0</td>\n",
       "      <td>0</td>\n",
       "      <td>9</td>\n",
       "      <td>1</td>\n",
       "      <td>1</td>\n",
       "      <td>8</td>\n",
       "      <td>0</td>\n",
       "      <td>10</td>\n",
       "      <td>0</td>\n",
       "      <td>1</td>\n",
       "    </tr>\n",
       "    <tr>\n",
       "      <th>288</th>\n",
       "      <td>1</td>\n",
       "      <td>0</td>\n",
       "      <td>0</td>\n",
       "      <td>0</td>\n",
       "      <td>1</td>\n",
       "      <td>0</td>\n",
       "      <td>1</td>\n",
       "      <td>0</td>\n",
       "      <td>0</td>\n",
       "      <td>1</td>\n",
       "      <td>7.0</td>\n",
       "      <td>0</td>\n",
       "      <td>9</td>\n",
       "      <td>1</td>\n",
       "      <td>1</td>\n",
       "      <td>13</td>\n",
       "      <td>0</td>\n",
       "      <td>4</td>\n",
       "      <td>0</td>\n",
       "      <td>1</td>\n",
       "    </tr>\n",
       "    <tr>\n",
       "      <th>289</th>\n",
       "      <td>1</td>\n",
       "      <td>0</td>\n",
       "      <td>1</td>\n",
       "      <td>1</td>\n",
       "      <td>1</td>\n",
       "      <td>1</td>\n",
       "      <td>1</td>\n",
       "      <td>0</td>\n",
       "      <td>0</td>\n",
       "      <td>1</td>\n",
       "      <td>4.0</td>\n",
       "      <td>1</td>\n",
       "      <td>5</td>\n",
       "      <td>0</td>\n",
       "      <td>0</td>\n",
       "      <td>18</td>\n",
       "      <td>0</td>\n",
       "      <td>7</td>\n",
       "      <td>0</td>\n",
       "      <td>1</td>\n",
       "    </tr>\n",
       "    <tr>\n",
       "      <th>290</th>\n",
       "      <td>1</td>\n",
       "      <td>1</td>\n",
       "      <td>1</td>\n",
       "      <td>0</td>\n",
       "      <td>1</td>\n",
       "      <td>1</td>\n",
       "      <td>1</td>\n",
       "      <td>1</td>\n",
       "      <td>1</td>\n",
       "      <td>1</td>\n",
       "      <td>4.0</td>\n",
       "      <td>1</td>\n",
       "      <td>1</td>\n",
       "      <td>0</td>\n",
       "      <td>0</td>\n",
       "      <td>27</td>\n",
       "      <td>0</td>\n",
       "      <td>9</td>\n",
       "      <td>0</td>\n",
       "      <td>1</td>\n",
       "    </tr>\n",
       "    <tr>\n",
       "      <th>291</th>\n",
       "      <td>0</td>\n",
       "      <td>0</td>\n",
       "      <td>1</td>\n",
       "      <td>0</td>\n",
       "      <td>1</td>\n",
       "      <td>0</td>\n",
       "      <td>1</td>\n",
       "      <td>0</td>\n",
       "      <td>0</td>\n",
       "      <td>0</td>\n",
       "      <td>4.0</td>\n",
       "      <td>0</td>\n",
       "      <td>1</td>\n",
       "      <td>0</td>\n",
       "      <td>0</td>\n",
       "      <td>27</td>\n",
       "      <td>0</td>\n",
       "      <td>3</td>\n",
       "      <td>0</td>\n",
       "      <td>1</td>\n",
       "    </tr>\n",
       "  </tbody>\n",
       "</table>\n",
       "<p>292 rows × 20 columns</p>\n",
       "</div>"
      ],
      "text/plain": [
       "     A1_Score  A2_Score  A3_Score  A4_Score  A5_Score  A6_Score  A7_Score  \\\n",
       "0           1         1         0         0         1         1         0   \n",
       "1           1         1         0         0         1         1         0   \n",
       "2           1         1         0         0         0         1         1   \n",
       "3           0         1         0         0         1         1         0   \n",
       "4           1         1         1         1         1         1         1   \n",
       "..        ...       ...       ...       ...       ...       ...       ...   \n",
       "287         1         1         1         1         1         1         1   \n",
       "288         1         0         0         0         1         0         1   \n",
       "289         1         0         1         1         1         1         1   \n",
       "290         1         1         1         0         1         1         1   \n",
       "291         0         0         1         0         1         0         1   \n",
       "\n",
       "     A8_Score  A9_Score  A10_Score  age  gender  ethnicity  jundice  austim  \\\n",
       "0           1         0          0  6.0       1          6        0       0   \n",
       "1           1         0          0  6.0       1          0        0       0   \n",
       "2           1         0          0  6.0       1          6        0       0   \n",
       "3           0         0          1  5.0       0          6        1       0   \n",
       "4           1         1          1  5.0       1          6        1       0   \n",
       "..        ...       ...        ...  ...     ...        ...      ...     ...   \n",
       "287         1         1          1  7.0       0          9        1       1   \n",
       "288         0         0          1  7.0       0          9        1       1   \n",
       "289         0         0          1  4.0       1          5        0       0   \n",
       "290         1         1          1  4.0       1          1        0       0   \n",
       "291         0         0          0  4.0       0          1        0       0   \n",
       "\n",
       "     contry_of_res  used_app_before  result  age_desc  relation  \n",
       "0               32                0       5         0         1  \n",
       "1               32                0       5         0         1  \n",
       "2               32                1       5         0         1  \n",
       "3               32                0       4         0         1  \n",
       "4                9                0      10         0         1  \n",
       "..             ...              ...     ...       ...       ...  \n",
       "287              8                0      10         0         1  \n",
       "288             13                0       4         0         1  \n",
       "289             18                0       7         0         1  \n",
       "290             27                0       9         0         1  \n",
       "291             27                0       3         0         1  \n",
       "\n",
       "[292 rows x 20 columns]"
      ]
     },
     "execution_count": 34,
     "metadata": {},
     "output_type": "execute_result"
    }
   ],
   "source": [
    "#feature selection\n",
    "X = df.drop('Class/ASD',axis=1)\n",
    "X"
   ]
  },
  {
   "cell_type": "code",
   "execution_count": 35,
   "id": "6b2075fc",
   "metadata": {},
   "outputs": [
    {
     "data": {
      "text/plain": [
       "0      0\n",
       "1      0\n",
       "2      0\n",
       "3      0\n",
       "4      1\n",
       "      ..\n",
       "287    1\n",
       "288    0\n",
       "289    1\n",
       "290    1\n",
       "291    0\n",
       "Name: Class/ASD, Length: 292, dtype: int64"
      ]
     },
     "execution_count": 35,
     "metadata": {},
     "output_type": "execute_result"
    }
   ],
   "source": [
    "y = df['Class/ASD']\n",
    "y"
   ]
  },
  {
   "cell_type": "code",
   "execution_count": 36,
   "id": "b089bae4",
   "metadata": {},
   "outputs": [],
   "source": [
    "from sklearn.feature_selection import SelectKBest"
   ]
  },
  {
   "cell_type": "code",
   "execution_count": 37,
   "id": "8b371506",
   "metadata": {},
   "outputs": [],
   "source": [
    "from sklearn.feature_selection import chi2"
   ]
  },
  {
   "cell_type": "code",
   "execution_count": 38,
   "id": "eb01ace6",
   "metadata": {},
   "outputs": [],
   "source": [
    "FIT_FEATURES = SelectKBest(score_func=chi2)"
   ]
  },
  {
   "cell_type": "code",
   "execution_count": 39,
   "id": "d2d14c73",
   "metadata": {},
   "outputs": [
    {
     "data": {
      "text/plain": [
       "SelectKBest(score_func=<function chi2 at 0x0000025D9FB1C8B0>)"
      ]
     },
     "execution_count": 39,
     "metadata": {},
     "output_type": "execute_result"
    }
   ],
   "source": [
    "FIT_FEATURES.fit(X,y)"
   ]
  },
  {
   "cell_type": "code",
   "execution_count": 40,
   "id": "495dfdca",
   "metadata": {},
   "outputs": [],
   "source": [
    "SCORE_COL = pd.DataFrame(FIT_FEATURES.scores_,columns =['score value'])"
   ]
  },
  {
   "cell_type": "code",
   "execution_count": 41,
   "id": "2ac52c2f",
   "metadata": {},
   "outputs": [],
   "source": [
    "NAME_COL = pd.DataFrame(X.columns)"
   ]
  },
  {
   "cell_type": "code",
   "execution_count": 42,
   "id": "d6dcdae3",
   "metadata": {},
   "outputs": [],
   "source": [
    "topr_features = pd.concat([NAME_COL,SCORE_COL],axis=1)"
   ]
  },
  {
   "cell_type": "code",
   "execution_count": 43,
   "id": "ba57b5e1",
   "metadata": {},
   "outputs": [],
   "source": [
    "topr_features.columns=['Top Features', 'Score']"
   ]
  },
  {
   "cell_type": "code",
   "execution_count": 44,
   "id": "4d6311d4",
   "metadata": {},
   "outputs": [
    {
     "data": {
      "text/html": [
       "<div>\n",
       "<style scoped>\n",
       "    .dataframe tbody tr th:only-of-type {\n",
       "        vertical-align: middle;\n",
       "    }\n",
       "\n",
       "    .dataframe tbody tr th {\n",
       "        vertical-align: top;\n",
       "    }\n",
       "\n",
       "    .dataframe thead th {\n",
       "        text-align: right;\n",
       "    }\n",
       "</style>\n",
       "<table border=\"1\" class=\"dataframe\">\n",
       "  <thead>\n",
       "    <tr style=\"text-align: right;\">\n",
       "      <th></th>\n",
       "      <th>Top Features</th>\n",
       "      <th>Score</th>\n",
       "    </tr>\n",
       "  </thead>\n",
       "  <tbody>\n",
       "    <tr>\n",
       "      <th>0</th>\n",
       "      <td>A1_Score</td>\n",
       "      <td>16.570951</td>\n",
       "    </tr>\n",
       "    <tr>\n",
       "      <th>1</th>\n",
       "      <td>A2_Score</td>\n",
       "      <td>7.134778</td>\n",
       "    </tr>\n",
       "    <tr>\n",
       "      <th>2</th>\n",
       "      <td>A3_Score</td>\n",
       "      <td>11.734209</td>\n",
       "    </tr>\n",
       "    <tr>\n",
       "      <th>3</th>\n",
       "      <td>A4_Score</td>\n",
       "      <td>42.338541</td>\n",
       "    </tr>\n",
       "    <tr>\n",
       "      <th>4</th>\n",
       "      <td>A5_Score</td>\n",
       "      <td>10.821959</td>\n",
       "    </tr>\n",
       "    <tr>\n",
       "      <th>5</th>\n",
       "      <td>A6_Score</td>\n",
       "      <td>14.625696</td>\n",
       "    </tr>\n",
       "    <tr>\n",
       "      <th>6</th>\n",
       "      <td>A7_Score</td>\n",
       "      <td>8.630529</td>\n",
       "    </tr>\n",
       "    <tr>\n",
       "      <th>7</th>\n",
       "      <td>A8_Score</td>\n",
       "      <td>28.251186</td>\n",
       "    </tr>\n",
       "    <tr>\n",
       "      <th>8</th>\n",
       "      <td>A9_Score</td>\n",
       "      <td>34.980461</td>\n",
       "    </tr>\n",
       "    <tr>\n",
       "      <th>9</th>\n",
       "      <td>A10_Score</td>\n",
       "      <td>15.483910</td>\n",
       "    </tr>\n",
       "    <tr>\n",
       "      <th>10</th>\n",
       "      <td>age</td>\n",
       "      <td>1.431854</td>\n",
       "    </tr>\n",
       "    <tr>\n",
       "      <th>11</th>\n",
       "      <td>gender</td>\n",
       "      <td>0.126341</td>\n",
       "    </tr>\n",
       "    <tr>\n",
       "      <th>12</th>\n",
       "      <td>ethnicity</td>\n",
       "      <td>8.109871</td>\n",
       "    </tr>\n",
       "    <tr>\n",
       "      <th>13</th>\n",
       "      <td>jundice</td>\n",
       "      <td>0.133023</td>\n",
       "    </tr>\n",
       "    <tr>\n",
       "      <th>14</th>\n",
       "      <td>austim</td>\n",
       "      <td>0.578695</td>\n",
       "    </tr>\n",
       "    <tr>\n",
       "      <th>15</th>\n",
       "      <td>contry_of_res</td>\n",
       "      <td>31.738550</td>\n",
       "    </tr>\n",
       "    <tr>\n",
       "      <th>16</th>\n",
       "      <td>used_app_before</td>\n",
       "      <td>0.626338</td>\n",
       "    </tr>\n",
       "    <tr>\n",
       "      <th>17</th>\n",
       "      <td>result</td>\n",
       "      <td>170.110548</td>\n",
       "    </tr>\n",
       "    <tr>\n",
       "      <th>18</th>\n",
       "      <td>age_desc</td>\n",
       "      <td>NaN</td>\n",
       "    </tr>\n",
       "    <tr>\n",
       "      <th>19</th>\n",
       "      <td>relation</td>\n",
       "      <td>0.234860</td>\n",
       "    </tr>\n",
       "  </tbody>\n",
       "</table>\n",
       "</div>"
      ],
      "text/plain": [
       "       Top Features       Score\n",
       "0          A1_Score   16.570951\n",
       "1          A2_Score    7.134778\n",
       "2          A3_Score   11.734209\n",
       "3          A4_Score   42.338541\n",
       "4          A5_Score   10.821959\n",
       "5          A6_Score   14.625696\n",
       "6          A7_Score    8.630529\n",
       "7          A8_Score   28.251186\n",
       "8          A9_Score   34.980461\n",
       "9         A10_Score   15.483910\n",
       "10              age    1.431854\n",
       "11           gender    0.126341\n",
       "12        ethnicity    8.109871\n",
       "13          jundice    0.133023\n",
       "14           austim    0.578695\n",
       "15    contry_of_res   31.738550\n",
       "16  used_app_before    0.626338\n",
       "17           result  170.110548\n",
       "18         age_desc         NaN\n",
       "19         relation    0.234860"
      ]
     },
     "execution_count": 44,
     "metadata": {},
     "output_type": "execute_result"
    }
   ],
   "source": [
    "topr_features"
   ]
  },
  {
   "cell_type": "code",
   "execution_count": 45,
   "id": "881fceca",
   "metadata": {},
   "outputs": [
    {
     "data": {
      "text/html": [
       "<div>\n",
       "<style scoped>\n",
       "    .dataframe tbody tr th:only-of-type {\n",
       "        vertical-align: middle;\n",
       "    }\n",
       "\n",
       "    .dataframe tbody tr th {\n",
       "        vertical-align: top;\n",
       "    }\n",
       "\n",
       "    .dataframe thead th {\n",
       "        text-align: right;\n",
       "    }\n",
       "</style>\n",
       "<table border=\"1\" class=\"dataframe\">\n",
       "  <thead>\n",
       "    <tr style=\"text-align: right;\">\n",
       "      <th></th>\n",
       "      <th>Top Features</th>\n",
       "      <th>Score</th>\n",
       "    </tr>\n",
       "  </thead>\n",
       "  <tbody>\n",
       "    <tr>\n",
       "      <th>17</th>\n",
       "      <td>result</td>\n",
       "      <td>170.110548</td>\n",
       "    </tr>\n",
       "    <tr>\n",
       "      <th>3</th>\n",
       "      <td>A4_Score</td>\n",
       "      <td>42.338541</td>\n",
       "    </tr>\n",
       "    <tr>\n",
       "      <th>8</th>\n",
       "      <td>A9_Score</td>\n",
       "      <td>34.980461</td>\n",
       "    </tr>\n",
       "    <tr>\n",
       "      <th>15</th>\n",
       "      <td>contry_of_res</td>\n",
       "      <td>31.738550</td>\n",
       "    </tr>\n",
       "    <tr>\n",
       "      <th>7</th>\n",
       "      <td>A8_Score</td>\n",
       "      <td>28.251186</td>\n",
       "    </tr>\n",
       "    <tr>\n",
       "      <th>0</th>\n",
       "      <td>A1_Score</td>\n",
       "      <td>16.570951</td>\n",
       "    </tr>\n",
       "    <tr>\n",
       "      <th>9</th>\n",
       "      <td>A10_Score</td>\n",
       "      <td>15.483910</td>\n",
       "    </tr>\n",
       "    <tr>\n",
       "      <th>5</th>\n",
       "      <td>A6_Score</td>\n",
       "      <td>14.625696</td>\n",
       "    </tr>\n",
       "    <tr>\n",
       "      <th>2</th>\n",
       "      <td>A3_Score</td>\n",
       "      <td>11.734209</td>\n",
       "    </tr>\n",
       "    <tr>\n",
       "      <th>4</th>\n",
       "      <td>A5_Score</td>\n",
       "      <td>10.821959</td>\n",
       "    </tr>\n",
       "    <tr>\n",
       "      <th>6</th>\n",
       "      <td>A7_Score</td>\n",
       "      <td>8.630529</td>\n",
       "    </tr>\n",
       "    <tr>\n",
       "      <th>12</th>\n",
       "      <td>ethnicity</td>\n",
       "      <td>8.109871</td>\n",
       "    </tr>\n",
       "    <tr>\n",
       "      <th>1</th>\n",
       "      <td>A2_Score</td>\n",
       "      <td>7.134778</td>\n",
       "    </tr>\n",
       "    <tr>\n",
       "      <th>10</th>\n",
       "      <td>age</td>\n",
       "      <td>1.431854</td>\n",
       "    </tr>\n",
       "    <tr>\n",
       "      <th>16</th>\n",
       "      <td>used_app_before</td>\n",
       "      <td>0.626338</td>\n",
       "    </tr>\n",
       "    <tr>\n",
       "      <th>14</th>\n",
       "      <td>austim</td>\n",
       "      <td>0.578695</td>\n",
       "    </tr>\n",
       "  </tbody>\n",
       "</table>\n",
       "</div>"
      ],
      "text/plain": [
       "       Top Features       Score\n",
       "17           result  170.110548\n",
       "3          A4_Score   42.338541\n",
       "8          A9_Score   34.980461\n",
       "15    contry_of_res   31.738550\n",
       "7          A8_Score   28.251186\n",
       "0          A1_Score   16.570951\n",
       "9         A10_Score   15.483910\n",
       "5          A6_Score   14.625696\n",
       "2          A3_Score   11.734209\n",
       "4          A5_Score   10.821959\n",
       "6          A7_Score    8.630529\n",
       "12        ethnicity    8.109871\n",
       "1          A2_Score    7.134778\n",
       "10              age    1.431854\n",
       "16  used_app_before    0.626338\n",
       "14           austim    0.578695"
      ]
     },
     "execution_count": 45,
     "metadata": {},
     "output_type": "execute_result"
    }
   ],
   "source": [
    "topr_features.nlargest(16,'Score')"
   ]
  },
  {
   "cell_type": "code",
   "execution_count": 46,
   "id": "ca696a34",
   "metadata": {},
   "outputs": [],
   "source": [
    "#drop multiple columns by name\n",
    "df.drop(['contry_of_res', 'relation', 'age_desc', 'used_app_before'], axis=1, inplace=True)"
   ]
  },
  {
   "cell_type": "code",
   "execution_count": 47,
   "id": "3f0289cc",
   "metadata": {},
   "outputs": [],
   "source": [
    "X = df.drop('Class/ASD',axis=1)"
   ]
  },
  {
   "cell_type": "code",
   "execution_count": 48,
   "id": "0957d672",
   "metadata": {},
   "outputs": [],
   "source": [
    "y = df['Class/ASD']"
   ]
  },
  {
   "cell_type": "code",
   "execution_count": 49,
   "id": "ab54bdc8",
   "metadata": {},
   "outputs": [
    {
     "name": "stdout",
     "output_type": "stream",
     "text": [
      "(292, 16) (292,)\n"
     ]
    }
   ],
   "source": [
    "print(X.shape, y.shape)"
   ]
  },
  {
   "cell_type": "code",
   "execution_count": 50,
   "id": "093cbbfd",
   "metadata": {},
   "outputs": [],
   "source": [
    "from sklearn.model_selection import train_test_split\n",
    "X_train, X_test, y_train, y_test= train_test_split(X, y, test_size= 0.2, random_state= 10)"
   ]
  },
  {
   "cell_type": "code",
   "execution_count": 51,
   "id": "28585e18",
   "metadata": {},
   "outputs": [],
   "source": [
    "#from sklearn.preprocessing import MinMaxScaler\n",
    "#scaler=MinMaxScaler()\n",
    "#X_train = scaler.fit_transform(X_train)\n",
    "#X_test = scaler.fit_transform(X_test)"
   ]
  },
  {
   "cell_type": "code",
   "execution_count": 52,
   "id": "885ec9f3",
   "metadata": {},
   "outputs": [
    {
     "name": "stdout",
     "output_type": "stream",
     "text": [
      "[0 1 1 1 1 0 1 1 1 1 0 1 1 0 1 0 0 0 1 0 1 0 1 1 0 0 1 0 0 1 0 1 1 0 0 1 1\n",
      " 0 0 0 1 0 0 0 0 0 1 1 1 0 0 0 0 1 1 0 1 0 0]\n"
     ]
    }
   ],
   "source": [
    "from sklearn.naive_bayes import GaussianNB \n",
    "model = GaussianNB()\n",
    "model.fit(X_train,y_train)\n",
    "y_pred = model.predict(X_test)\n",
    "prob_model=model.predict_proba(X_test) [:,1]\n",
    "print(y_pred)"
   ]
  },
  {
   "cell_type": "code",
   "execution_count": 53,
   "id": "38aaa318",
   "metadata": {},
   "outputs": [
    {
     "data": {
      "image/png": "[encoded data removed]",
      "text/plain": [
       "<Figure size 500x500 with 1 Axes>"
      ]
     },
     "metadata": {},
     "output_type": "display_data"
    }
   ],
   "source": [
    "\n",
    "from sklearn.metrics import roc_curve, auc\n",
    "GaussianNB_fpr, GaussianNB_tpr, threshold = roc_curve(y_test, prob_model)\n",
    "auc_GaussianNB = auc(GaussianNB_fpr, GaussianNB_tpr)\n",
    "plt.figure(figsize=(5, 5), dpi=100)\n",
    "plt.plot(GaussianNB_fpr, GaussianNB_tpr, marker='.', label='GaussianNB (auc = %0.3f)' % auc_GaussianNB)\n",
    "plt.plot([0,1],[0,1],'b--')\n",
    "plt.xlabel('False Positive Rate -->')\n",
    "plt.ylabel('True Positive Rate -->')\n",
    "plt.legend()\n",
    "plt.show()"
   ]
  },
  {
   "cell_type": "code",
   "execution_count": 54,
   "id": "9816d344",
   "metadata": {},
   "outputs": [
    {
     "name": "stdout",
     "output_type": "stream",
     "text": [
      "Confusion Matrix:\n",
      " [[27  0]\n",
      " [ 4 28]]\n",
      "Performance:\n",
      "               precision    recall  f1-score   support\n",
      "\n",
      "           0       0.87      1.00      0.93        27\n",
      "           1       1.00      0.88      0.93        32\n",
      "\n",
      "    accuracy                           0.93        59\n",
      "   macro avg       0.94      0.94      0.93        59\n",
      "weighted avg       0.94      0.93      0.93        59\n",
      "\n"
     ]
    }
   ],
   "source": [
    "from sklearn.metrics import classification_report,confusion_matrix\n",
    "CM=confusion_matrix(y_test,y_pred)\n",
    "print(\"Confusion Matrix:\\n\",CM)\n",
    "CR=classification_report(y_test,y_pred)\n",
    "print(\"Performance:\\n\",CR)"
   ]
  },
  {
   "cell_type": "code",
   "execution_count": 55,
   "id": "99fe9859",
   "metadata": {},
   "outputs": [
    {
     "data": {
      "text/plain": [
       "0.9322033898305084"
      ]
     },
     "execution_count": 55,
     "metadata": {},
     "output_type": "execute_result"
    }
   ],
   "source": [
    "from sklearn.naive_bayes import BernoulliNB\n",
    "BNG = BernoulliNB()\n",
    "BNG.fit(X_train,y_train)\n",
    "BNG_pred = BNG.predict(X_test)\n",
    "prob_BNG=BNG.predict_proba(X_test) [:,1]\n",
    "BNG.score(X_test,y_test)"
   ]
  },
  {
   "cell_type": "code",
   "execution_count": 56,
   "id": "77d4e163",
   "metadata": {},
   "outputs": [
    {
     "data": {
      "image/png": "[encoded data removed]",
      "text/plain": [
       "<Figure size 500x500 with 1 Axes>"
      ]
     },
     "metadata": {},
     "output_type": "display_data"
    }
   ],
   "source": [
    "from sklearn.metrics import roc_curve, auc\n",
    "BernoulliNB_fpr, BernoulliNB_tpr, threshold = roc_curve(y_test, prob_BNG)\n",
    "auc_BernoulliNB = auc(BernoulliNB_fpr, BernoulliNB_tpr)\n",
    "plt.figure(figsize=(5, 5), dpi=100)\n",
    "plt.plot(BernoulliNB_fpr, BernoulliNB_tpr, marker='.', label='BernoulliNB (auc = %0.3f)' % auc_BernoulliNB)\n",
    "plt.plot([0,1],[0,1],'b--')\n",
    "plt.xlabel('False Positive Rate -->')\n",
    "plt.ylabel('True Positive Rate -->')\n",
    "plt.legend()\n",
    "plt.show()"
   ]
  },
  {
   "cell_type": "code",
   "execution_count": 57,
   "id": "f1adb49b",
   "metadata": {},
   "outputs": [
    {
     "name": "stdout",
     "output_type": "stream",
     "text": [
      "Confusion Matrix:\n",
      " [[25  2]\n",
      " [ 2 30]]\n",
      "Performance:\n",
      "               precision    recall  f1-score   support\n",
      "\n",
      "           0       0.93      0.93      0.93        27\n",
      "           1       0.94      0.94      0.94        32\n",
      "\n",
      "    accuracy                           0.93        59\n",
      "   macro avg       0.93      0.93      0.93        59\n",
      "weighted avg       0.93      0.93      0.93        59\n",
      "\n"
     ]
    }
   ],
   "source": [
    "CM=confusion_matrix(y_test,BNG_pred)\n",
    "print(\"Confusion Matrix:\\n\",CM)\n",
    "CR=classification_report(y_test,BNG_pred)\n",
    "print(\"Performance:\\n\",CR)"
   ]
  },
  {
   "cell_type": "code",
   "execution_count": 58,
   "id": "30c0955b",
   "metadata": {},
   "outputs": [
    {
     "data": {
      "text/plain": [
       "0.7796610169491526"
      ]
     },
     "execution_count": 58,
     "metadata": {},
     "output_type": "execute_result"
    }
   ],
   "source": [
    "from sklearn.naive_bayes import MultinomialNB\n",
    "MNB = MultinomialNB()\n",
    "MNB.fit(X_train,y_train)\n",
    "MNB_pred = MNB.predict(X_test)\n",
    "prob_MNB=MNB.predict_proba(X_test) [:,1]\n",
    "MNB.score(X_test,y_test)"
   ]
  },
  {
   "cell_type": "code",
   "execution_count": 59,
   "id": "2015fba7",
   "metadata": {},
   "outputs": [
    {
     "data": {
      "image/png": "[encoded data removed]",
      "text/plain": [
       "<Figure size 500x500 with 1 Axes>"
      ]
     },
     "metadata": {},
     "output_type": "display_data"
    }
   ],
   "source": [
    "from sklearn.metrics import roc_curve, auc\n",
    "MultinomialNB_fpr, MultinomialNB_tpr, threshold = roc_curve(y_test, prob_MNB)\n",
    "auc_MultinomialNB = auc(MultinomialNB_fpr, MultinomialNB_tpr)\n",
    "plt.figure(figsize=(5, 5), dpi=100)\n",
    "plt.plot(MultinomialNB_fpr, MultinomialNB_tpr, marker='.', label='MultinomialNB (auc = %0.3f)' % auc_MultinomialNB)\n",
    "plt.plot([0,1],[0,1],'b--')\n",
    "plt.xlabel('False Positive Rate -->')\n",
    "plt.ylabel('True Positive Rate -->')\n",
    "plt.legend()\n",
    "plt.show()"
   ]
  },
  {
   "cell_type": "code",
   "execution_count": 60,
   "id": "9e8a640b",
   "metadata": {},
   "outputs": [
    {
     "name": "stdout",
     "output_type": "stream",
     "text": [
      "Confusion Matrix:\n",
      " [[21  6]\n",
      " [ 7 25]]\n",
      "Performance:\n",
      "               precision    recall  f1-score   support\n",
      "\n",
      "           0       0.75      0.78      0.76        27\n",
      "           1       0.81      0.78      0.79        32\n",
      "\n",
      "    accuracy                           0.78        59\n",
      "   macro avg       0.78      0.78      0.78        59\n",
      "weighted avg       0.78      0.78      0.78        59\n",
      "\n"
     ]
    }
   ],
   "source": [
    "CM=confusion_matrix(y_test,MNB_pred)\n",
    "print(\"Confusion Matrix:\\n\",CM)\n",
    "CR=classification_report(y_test,MNB_pred)\n",
    "print(\"Performance:\\n\",CR)"
   ]
  },
  {
   "cell_type": "code",
   "execution_count": 61,
   "id": "3db5b3a1",
   "metadata": {},
   "outputs": [],
   "source": [
    "from sklearn.svm import SVC\n",
    "SVM_rbf= SVC(kernel='rbf', random_state=10,gamma=3.0,C=1.5)\n",
    "SVM_classifier=SVM_rbf.fit(X_train,y_train)\n",
    "SVM_prediction=SVM_classifier.predict(X_test)\n",
    "SVM_predictions=SVM_classifier.decision_function(X_test)"
   ]
  },
  {
   "cell_type": "code",
   "execution_count": 62,
   "id": "296d34e9",
   "metadata": {},
   "outputs": [
    {
     "name": "stdout",
     "output_type": "stream",
     "text": [
      "Confusion Matrix:\n",
      " [[27  0]\n",
      " [28  4]]\n",
      "Performance:\n",
      "               precision    recall  f1-score   support\n",
      "\n",
      "           0       0.49      1.00      0.66        27\n",
      "           1       1.00      0.12      0.22        32\n",
      "\n",
      "    accuracy                           0.53        59\n",
      "   macro avg       0.75      0.56      0.44        59\n",
      "weighted avg       0.77      0.53      0.42        59\n",
      "\n"
     ]
    }
   ],
   "source": [
    "CM=confusion_matrix(y_test,SVM_prediction)\n",
    "print(\"Confusion Matrix:\\n\",CM)\n",
    "CR=classification_report(y_test,SVM_prediction)\n",
    "print(\"Performance:\\n\",CR)"
   ]
  },
  {
   "cell_type": "code",
   "execution_count": 63,
   "id": "42813bf3",
   "metadata": {},
   "outputs": [
    {
     "data": {
      "image/png": "[encoded data removed]",
      "text/plain": [
       "<Figure size 500x500 with 1 Axes>"
      ]
     },
     "metadata": {},
     "output_type": "display_data"
    }
   ],
   "source": [
    "from sklearn.metrics import roc_curve, auc\n",
    "svm_fpr, svm_tpr, threshold = roc_curve(y_test, SVM_predictions)\n",
    "auc_svm = auc(svm_fpr, svm_tpr)\n",
    "plt.figure(figsize=(5, 5), dpi=100)\n",
    "plt.plot(svm_fpr, svm_tpr, linestyle='-', label='SVM (auc = %0.3f)' % auc_svm)\n",
    "plt.plot([0,1],[0,1],'b--')\n",
    "plt.xlabel('False Positive Rate -->')\n",
    "plt.ylabel('True Positive Rate -->')\n",
    "plt.legend()\n",
    "plt.show()\n"
   ]
  },
  {
   "cell_type": "code",
   "execution_count": 64,
   "id": "910980b2",
   "metadata": {},
   "outputs": [],
   "source": [
    "from sklearn.ensemble import RandomForestClassifier"
   ]
  },
  {
   "cell_type": "code",
   "execution_count": 65,
   "id": "cbf55c36",
   "metadata": {},
   "outputs": [],
   "source": [
    "Rfc = RandomForestClassifier()\n",
    "Rfc.fit(X_train,y_train)\n",
    "Rfc_predict = Rfc.predict(X_test)\n",
    "Rfc.score(X_test,y_test)\n",
    "prob_Rfc=Rfc.predict_proba(X_test) [:,1]"
   ]
  },
  {
   "cell_type": "code",
   "execution_count": 66,
   "id": "df20da0d",
   "metadata": {
    "scrolled": true
   },
   "outputs": [
    {
     "data": {
      "image/png": "[encoded data removed]",
      "text/plain": [
       "<Figure size 500x500 with 1 Axes>"
      ]
     },
     "metadata": {},
     "output_type": "display_data"
    }
   ],
   "source": [
    "from sklearn.metrics import roc_curve, auc\n",
    "RandomForest_fpr, RandomForest_tpr, threshold = roc_curve(y_test, prob_Rfc)\n",
    "auc_RandomForest = auc(RandomForest_fpr, RandomForest_tpr)\n",
    "plt.figure(figsize=(5, 5), dpi=100)\n",
    "plt.plot(RandomForest_fpr, RandomForest_tpr, marker='.', label='Random Forest (auc = %0.3f)' % auc_RandomForest)\n",
    "plt.plot([0,1],[0,1],'b--')\n",
    "plt.xlabel('False Positive Rate -->')\n",
    "plt.ylabel('True Positive Rate -->')\n",
    "plt.legend()\n",
    "plt.show()"
   ]
  },
  {
   "cell_type": "code",
   "execution_count": 67,
   "id": "1dadebd1",
   "metadata": {},
   "outputs": [
    {
     "name": "stdout",
     "output_type": "stream",
     "text": [
      "Confusion Matrix:\n",
      " [[27  0]\n",
      " [ 0 32]]\n",
      "Performance:\n",
      "               precision    recall  f1-score   support\n",
      "\n",
      "           0       1.00      1.00      1.00        27\n",
      "           1       1.00      1.00      1.00        32\n",
      "\n",
      "    accuracy                           1.00        59\n",
      "   macro avg       1.00      1.00      1.00        59\n",
      "weighted avg       1.00      1.00      1.00        59\n",
      "\n"
     ]
    }
   ],
   "source": [
    "CM=confusion_matrix(y_test,Rfc_predict)\n",
    "print(\"Confusion Matrix:\\n\",CM)\n",
    "CR=classification_report(y_test,Rfc_predict)\n",
    "print(\"Performance:\\n\",CR)"
   ]
  },
  {
   "cell_type": "code",
   "execution_count": 68,
   "id": "d49f6785",
   "metadata": {},
   "outputs": [
    {
     "data": {
      "text/plain": [
       "1.0"
      ]
     },
     "execution_count": 68,
     "metadata": {},
     "output_type": "execute_result"
    }
   ],
   "source": [
    "from sklearn.ensemble import AdaBoostClassifier\n",
    "ada = AdaBoostClassifier(n_estimators=50,learning_rate=1)\n",
    "ada.fit(X_train, y_train)\n",
    "ada.predict(X_test)\n",
    "prob_ADB=ada.predict_proba(X_test) [:,1]\n",
    "ada.score(X_test,y_test)"
   ]
  },
  {
   "cell_type": "code",
   "execution_count": 69,
   "id": "b822ad3d",
   "metadata": {},
   "outputs": [
    {
     "data": {
      "image/png": "[encoded data removed]",
      "text/plain": [
       "<Figure size 500x500 with 1 Axes>"
      ]
     },
     "metadata": {},
     "output_type": "display_data"
    }
   ],
   "source": [
    "from sklearn.metrics import roc_curve, auc\n",
    "AdaBoost_fpr, AdaBoost_tpr, threshold = roc_curve(y_test, prob_ADB)\n",
    "auc_AdaBoost = auc(AdaBoost_fpr, AdaBoost_tpr)\n",
    "plt.figure(figsize=(5, 5), dpi=100)\n",
    "plt.plot(AdaBoost_fpr, AdaBoost_tpr, marker='.', label='AdaBoost (auc = %0.3f)' % auc_AdaBoost)\n",
    "plt.plot([0,1],[0,1],'b--')\n",
    "plt.xlabel('False Positive Rate -->')\n",
    "plt.ylabel('True Positive Rate -->')\n",
    "plt.legend()\n",
    "plt.show()"
   ]
  },
  {
   "cell_type": "code",
   "execution_count": 70,
   "id": "850ba203",
   "metadata": {},
   "outputs": [
    {
     "data": {
      "text/plain": [
       "0.6815710875887986"
      ]
     },
     "execution_count": 70,
     "metadata": {},
     "output_type": "execute_result"
    }
   ],
   "source": [
    "from sklearn.linear_model import LinearRegression \n",
    "LR = LinearRegression() \n",
    "LR.fit(X_train,y_train)\n",
    "LR_predict = LR.predict(X_test)\n",
    "LR.score(X_test,y_test)"
   ]
  },
  {
   "cell_type": "code",
   "execution_count": 71,
   "id": "436d8668",
   "metadata": {},
   "outputs": [],
   "source": [
    "from sklearn.metrics import mean_squared_error,r2_score"
   ]
  },
  {
   "cell_type": "code",
   "execution_count": 72,
   "id": "de6561ec",
   "metadata": {},
   "outputs": [
    {
     "data": {
      "text/plain": [
       "0.07903550138560127"
      ]
     },
     "execution_count": 72,
     "metadata": {},
     "output_type": "execute_result"
    }
   ],
   "source": [
    "mean_squared_error(y_test,LR_predict)"
   ]
  },
  {
   "cell_type": "code",
   "execution_count": 73,
   "id": "ae336a6f",
   "metadata": {},
   "outputs": [
    {
     "data": {
      "text/plain": [
       "0.6815710875887986"
      ]
     },
     "execution_count": 73,
     "metadata": {},
     "output_type": "execute_result"
    }
   ],
   "source": [
    "r2_score(y_test,LR_predict)"
   ]
  },
  {
   "cell_type": "code",
   "execution_count": 74,
   "id": "a842fa60",
   "metadata": {},
   "outputs": [],
   "source": [
    "from sklearn.linear_model import LogisticRegression \n",
    "Reg = LogisticRegression()\n",
    "Reg.fit(X_train,y_train)\n",
    "Reg_predict =Reg.predict(X_test)\n",
    "probs_lr = Reg.decision_function(X_test)"
   ]
  },
  {
   "cell_type": "code",
   "execution_count": 75,
   "id": "73b39e31",
   "metadata": {},
   "outputs": [
    {
     "data": {
      "image/png": "[encoded data removed]",
      "text/plain": [
       "<Figure size 500x500 with 1 Axes>"
      ]
     },
     "metadata": {},
     "output_type": "display_data"
    }
   ],
   "source": [
    "from sklearn.metrics import roc_curve, auc\n",
    "\n",
    "logisticRegression_fpr, logisticRegression_tpr, threshold = roc_curve(y_test, probs_lr)\n",
    "auc_logisticRegression = auc(logisticRegression_fpr, logisticRegression_tpr)\n",
    "\n",
    "plt.figure(figsize=(5, 5), dpi=100)\n",
    "plt.plot(logisticRegression_fpr, logisticRegression_tpr, marker='.', label='Logistic Regression (auc = %0.3f)' % auc_logisticRegression)\n",
    "plt.plot([0,1],[0,1],'b--')\n",
    "plt.xlabel('False Positive Rate -->')\n",
    "plt.ylabel('True Positive Rate -->')\n",
    "plt.legend()\n",
    "plt.show()"
   ]
  },
  {
   "cell_type": "code",
   "execution_count": 76,
   "id": "2e49a618",
   "metadata": {},
   "outputs": [
    {
     "name": "stdout",
     "output_type": "stream",
     "text": [
      "Confusion Matrix:\n",
      " [[27  0]\n",
      " [ 0 32]]\n",
      "Performance:\n",
      "               precision    recall  f1-score   support\n",
      "\n",
      "           0       1.00      1.00      1.00        27\n",
      "           1       1.00      1.00      1.00        32\n",
      "\n",
      "    accuracy                           1.00        59\n",
      "   macro avg       1.00      1.00      1.00        59\n",
      "weighted avg       1.00      1.00      1.00        59\n",
      "\n"
     ]
    }
   ],
   "source": [
    "CM=confusion_matrix(y_test,Reg_predict)\n",
    "print(\"Confusion Matrix:\\n\",CM)\n",
    "CR=classification_report(y_test,Reg_predict)\n",
    "print(\"Performance:\\n\",CR)"
   ]
  },
  {
   "cell_type": "code",
   "execution_count": 77,
   "id": "855ce6fa",
   "metadata": {},
   "outputs": [
    {
     "data": {
      "text/plain": [
       "1.0"
      ]
     },
     "execution_count": 77,
     "metadata": {},
     "output_type": "execute_result"
    }
   ],
   "source": [
    "from sklearn.tree import DecisionTreeClassifier \n",
    "tree = DecisionTreeClassifier()\n",
    "tree.fit(X_train,y_train)\n",
    "tree_predict = tree.predict(X_test)\n",
    "prob_tree= tree.predict_proba(X_test) [:,1]\n",
    "tree.score(X_test,y_test)"
   ]
  },
  {
   "cell_type": "code",
   "execution_count": 78,
   "id": "ae7628c3",
   "metadata": {},
   "outputs": [
    {
     "data": {
      "image/png": "[encoded data removed]",
      "text/plain": [
       "<Figure size 500x500 with 1 Axes>"
      ]
     },
     "metadata": {},
     "output_type": "display_data"
    }
   ],
   "source": [
    "from sklearn.metrics import roc_curve, auc\n",
    "tree_fpr,tree_tpr, threshold = roc_curve(y_test, prob_tree)\n",
    "auc_tree = auc(tree_fpr, tree_tpr)\n",
    "plt.figure(figsize=(5, 5), dpi=100)\n",
    "plt.plot(tree_fpr, tree_tpr, marker='.', label='Decision tree (auc = %0.3f)' % auc_tree)\n",
    "plt.plot([0,1],[0,1],'b--')\n",
    "plt.xlabel('False Positive Rate -->')\n",
    "plt.ylabel('True Positive Rate -->')\n",
    "plt.legend()\n",
    "plt.show()"
   ]
  },
  {
   "cell_type": "code",
   "execution_count": 79,
   "id": "6eac80ce",
   "metadata": {},
   "outputs": [
    {
     "name": "stdout",
     "output_type": "stream",
     "text": [
      "Confusion Matrix:\n",
      " [[27  0]\n",
      " [ 0 32]]\n",
      "Performance:\n",
      "               precision    recall  f1-score   support\n",
      "\n",
      "           0       1.00      1.00      1.00        27\n",
      "           1       1.00      1.00      1.00        32\n",
      "\n",
      "    accuracy                           1.00        59\n",
      "   macro avg       1.00      1.00      1.00        59\n",
      "weighted avg       1.00      1.00      1.00        59\n",
      "\n"
     ]
    }
   ],
   "source": [
    "CM=confusion_matrix(y_test,tree_predict)\n",
    "print(\"Confusion Matrix:\\n\",CM)\n",
    "CR=classification_report(y_test,tree_predict)\n",
    "print(\"Performance:\\n\",CR)"
   ]
  },
  {
   "cell_type": "code",
   "execution_count": 80,
   "id": "ec7eed39",
   "metadata": {},
   "outputs": [
    {
     "name": "stdout",
     "output_type": "stream",
     "text": [
      "[15:39:52] WARNING: ..\\src\\learner.cc:1115: Starting in XGBoost 1.3.0, the default evaluation metric used with the objective 'binary:logistic' was changed from 'error' to 'logloss'. Explicitly set eval_metric if you'd like to restore the old behavior.\n"
     ]
    },
    {
     "data": {
      "text/plain": [
       "1.0"
      ]
     },
     "execution_count": 80,
     "metadata": {},
     "output_type": "execute_result"
    }
   ],
   "source": [
    "from xgboost import XGBClassifier\n",
    "xb = XGBClassifier()\n",
    "xb.fit(X_train,y_train)\n",
    "xb_pred = xb.predict(X_test)\n",
    "prob_xb= xb.predict_proba(X_test) [:,1]\n",
    "xb.score(X_test,y_test)"
   ]
  },
  {
   "cell_type": "code",
   "execution_count": 81,
   "id": "296eda75",
   "metadata": {},
   "outputs": [
    {
     "data": {
      "image/png": "[encoded data removed]",
      "text/plain": [
       "<Figure size 500x500 with 1 Axes>"
      ]
     },
     "metadata": {},
     "output_type": "display_data"
    }
   ],
   "source": [
    "from sklearn.metrics import roc_curve, auc\n",
    "xb_fpr,xb_tpr, threshold = roc_curve(y_test, prob_xb)\n",
    "auc_xb = auc(xb_fpr, xb_tpr)\n",
    "plt.figure(figsize=(5, 5), dpi=100)\n",
    "plt.plot(xb_fpr, xb_tpr, marker='.', label='XGB (auc = %0.3f)' % auc_xb)\n",
    "plt.plot([0,1],[0,1],'b--')\n",
    "plt.xlabel('False Positive Rate -->')\n",
    "plt.ylabel('True Positive Rate -->')\n",
    "plt.legend()\n",
    "plt.show()"
   ]
  },
  {
   "cell_type": "code",
   "execution_count": 82,
   "id": "69b09c43",
   "metadata": {},
   "outputs": [
    {
     "name": "stdout",
     "output_type": "stream",
     "text": [
      "Confusion Matrix:\n",
      " [[27  0]\n",
      " [ 0 32]]\n",
      "Performance:\n",
      "               precision    recall  f1-score   support\n",
      "\n",
      "           0       1.00      1.00      1.00        27\n",
      "           1       1.00      1.00      1.00        32\n",
      "\n",
      "    accuracy                           1.00        59\n",
      "   macro avg       1.00      1.00      1.00        59\n",
      "weighted avg       1.00      1.00      1.00        59\n",
      "\n"
     ]
    }
   ],
   "source": [
    "CM=confusion_matrix(y_test,xb_pred)\n",
    "print(\"Confusion Matrix:\\n\",CM)\n",
    "CR=classification_report(y_test,xb_pred)\n",
    "print(\"Performance:\\n\",CR)"
   ]
  },
  {
   "cell_type": "code",
   "execution_count": 83,
   "id": "9082fa2f",
   "metadata": {},
   "outputs": [
    {
     "data": {
      "text/plain": [
       "0.8284288194444445"
      ]
     },
     "execution_count": 83,
     "metadata": {},
     "output_type": "execute_result"
    }
   ],
   "source": [
    "from sklearn.neighbors import KNeighborsRegressor\n",
    "kn= KNeighborsRegressor(n_neighbors =20) \n",
    "kn.fit (X_train,y_train)\n",
    "kn_predict= kn.predict(X_test)\n",
    "kn.score(X_test,y_test)"
   ]
  },
  {
   "cell_type": "code",
   "execution_count": 84,
   "id": "97da946e",
   "metadata": {},
   "outputs": [
    {
     "data": {
      "text/plain": [
       "0.04258474576271187"
      ]
     },
     "execution_count": 84,
     "metadata": {},
     "output_type": "execute_result"
    }
   ],
   "source": [
    "mean_squared_error(y_test,kn_predict)"
   ]
  },
  {
   "cell_type": "code",
   "execution_count": 85,
   "id": "dfac745f",
   "metadata": {},
   "outputs": [
    {
     "data": {
      "text/plain": [
       "0.8284288194444445"
      ]
     },
     "execution_count": 85,
     "metadata": {},
     "output_type": "execute_result"
    }
   ],
   "source": [
    "r2_score(y_test,kn_predict)"
   ]
  },
  {
   "cell_type": "code",
   "execution_count": 86,
   "id": "a323ca1e",
   "metadata": {},
   "outputs": [
    {
     "data": {
      "text/plain": [
       "1.0"
      ]
     },
     "execution_count": 86,
     "metadata": {},
     "output_type": "execute_result"
    }
   ],
   "source": [
    "from sklearn.linear_model import SGDClassifier\n",
    "SGD =  SGDClassifier(loss=\"hinge\", penalty=\"l2\", random_state=10)\n",
    "SGD.fit(X_train,y_train)\n",
    "SGD_pred = xb.predict(X_test)\n",
    "SGD.score(X_test,y_test)"
   ]
  },
  {
   "cell_type": "code",
   "execution_count": 87,
   "id": "1c962142",
   "metadata": {},
   "outputs": [
    {
     "name": "stdout",
     "output_type": "stream",
     "text": [
      "Confusion Matrix:\n",
      " [[27  0]\n",
      " [ 0 32]]\n",
      "Performance:\n",
      "               precision    recall  f1-score   support\n",
      "\n",
      "           0       1.00      1.00      1.00        27\n",
      "           1       1.00      1.00      1.00        32\n",
      "\n",
      "    accuracy                           1.00        59\n",
      "   macro avg       1.00      1.00      1.00        59\n",
      "weighted avg       1.00      1.00      1.00        59\n",
      "\n"
     ]
    }
   ],
   "source": [
    "CM=confusion_matrix(y_test,SGD_pred)\n",
    "print(\"Confusion Matrix:\\n\",CM)\n",
    "CR=classification_report(y_test,SGD_pred)\n",
    "print(\"Performance:\\n\",CR)"
   ]
  },
  {
   "cell_type": "code",
   "execution_count": 88,
   "id": "b3abe7af",
   "metadata": {},
   "outputs": [
    {
     "data": {
      "text/plain": [
       "0.7627118644067796"
      ]
     },
     "execution_count": 88,
     "metadata": {},
     "output_type": "execute_result"
    }
   ],
   "source": [
    "from sklearn.discriminant_analysis import QuadraticDiscriminantAnalysis\n",
    "QDA = QuadraticDiscriminantAnalysis()\n",
    "QDA.fit(X_train,y_train)\n",
    "QDA_pred = QDA.predict(X_test)\n",
    "prob_QDA=QDA.predict_proba(X_test) [:,1]\n",
    "QDA.score(X_test,y_test)"
   ]
  },
  {
   "cell_type": "code",
   "execution_count": 89,
   "id": "dd78b999",
   "metadata": {},
   "outputs": [
    {
     "data": {
      "image/png": "[encoded data removed]",
      "text/plain": [
       "<Figure size 500x500 with 1 Axes>"
      ]
     },
     "metadata": {},
     "output_type": "display_data"
    }
   ],
   "source": [
    "from sklearn.metrics import roc_curve, auc\n",
    "QDA_fpr, QDA_tpr, threshold = roc_curve(y_test,prob_QDA)\n",
    "auc_QDA = auc(QDA_fpr, QDA_tpr)\n",
    "plt.figure(figsize=(5, 5), dpi=100)\n",
    "plt.plot(QDA_fpr, QDA_tpr, marker='.', label='QDA (auc = %0.3f)' % auc_QDA)\n",
    "plt.plot([0,1],[0,1],'b--')\n",
    "plt.xlabel('False Positive Rate -->')\n",
    "plt.ylabel('True Positive Rate -->')\n",
    "plt.legend()\n",
    "plt.show()"
   ]
  },
  {
   "cell_type": "code",
   "execution_count": 90,
   "id": "10ec3fc4",
   "metadata": {},
   "outputs": [
    {
     "name": "stdout",
     "output_type": "stream",
     "text": [
      "Confusion Matrix:\n",
      " [[15 12]\n",
      " [ 2 30]]\n",
      "Performance:\n",
      "               precision    recall  f1-score   support\n",
      "\n",
      "           0       0.88      0.56      0.68        27\n",
      "           1       0.71      0.94      0.81        32\n",
      "\n",
      "    accuracy                           0.76        59\n",
      "   macro avg       0.80      0.75      0.75        59\n",
      "weighted avg       0.79      0.76      0.75        59\n",
      "\n"
     ]
    }
   ],
   "source": [
    "CM=confusion_matrix(y_test,QDA_pred)\n",
    "print(\"Confusion Matrix:\\n\",CM)\n",
    "CR=classification_report(y_test,QDA_pred)\n",
    "print(\"Performance:\\n\",CR)"
   ]
  },
  {
   "cell_type": "code",
   "execution_count": 91,
   "id": "90b88e13",
   "metadata": {},
   "outputs": [
    {
     "name": "stdout",
     "output_type": "stream",
     "text": [
      "Confusion: [[15 12]\n",
      " [ 2 30]]\n",
      "Accuracy: 0.7627118644067796\n",
      "Precision: 0.7142857142857143\n",
      "Recall: 0.9375\n",
      "F-measure: 0.8108108108108109\n"
     ]
    }
   ],
   "source": [
    "from sklearn import metrics\n",
    "CM = metrics.confusion_matrix(y_test,QDA_pred)\n",
    "accuracy = metrics.accuracy_score(y_test,QDA_pred)\n",
    "precision = metrics.precision_score(y_test,QDA_pred)\n",
    "recall = metrics.recall_score(y_test,QDA_pred)\n",
    "f_score = metrics.f1_score(y_test,QDA_pred)\n",
    "print(\"Confusion:\",CM)\n",
    "print(\"Accuracy:\",accuracy)\n",
    "print(\"Precision:\",precision)\n",
    "print(\"Recall:\",recall)\n",
    "print(\"F-measure:\",f_score)"
   ]
  },
  {
   "cell_type": "code",
   "execution_count": null,
   "id": "02e42d9c",
   "metadata": {},
   "outputs": [],
   "source": []
  },
  {
   "cell_type": "code",
   "execution_count": null,
   "id": "feadcd89",
   "metadata": {},
   "outputs": [],
   "source": []
  },
  {
   "cell_type": "code",
   "execution_count": null,
   "id": "abfb66ae",
   "metadata": {},
   "outputs": [],
   "source": []
  },
  {
   "cell_type": "code",
   "execution_count": null,
   "id": "e9546d0e",
   "metadata": {},
   "outputs": [],
   "source": []
  },
  {
   "cell_type": "code",
   "execution_count": 92,
   "id": "870e65f2",
   "metadata": {},
   "outputs": [],
   "source": [
    "from sklearn.ensemble import ExtraTreesClassifier\n",
    "ETC = ExtraTreesClassifier(n_estimators=10, min_samples_split=2,random_state=1)\n",
    "ETC.fit(X_train,y_train)\n",
    "ETC_pred = xb.predict(X_test)\n",
    "ETC.score(X_test,y_test)\n",
    "prob_ETC= ETC.predict_proba(X_test) [:,1]"
   ]
  },
  {
   "cell_type": "code",
   "execution_count": 93,
   "id": "5f4b1020",
   "metadata": {},
   "outputs": [
    {
     "data": {
      "image/png": "[encoded data removed]",
      "text/plain": [
       "<Figure size 500x500 with 1 Axes>"
      ]
     },
     "metadata": {},
     "output_type": "display_data"
    }
   ],
   "source": [
    "from sklearn.metrics import roc_curve, auc\n",
    "ExtraTrees_fpr, ExtraTrees_tpr, threshold = roc_curve(y_test, prob_ETC)\n",
    "auc_ExtraTrees = auc(ExtraTrees_fpr, ExtraTrees_tpr)\n",
    "plt.figure(figsize=(5, 5), dpi=100)\n",
    "plt.plot(ExtraTrees_fpr, ExtraTrees_tpr, marker='.', label='ExtraTrees (auc = %0.3f)' % auc_ExtraTrees)\n",
    "plt.plot([0,1],[0,1],'b--')\n",
    "plt.xlabel('False Positive Rate -->')\n",
    "plt.ylabel('True Positive Rate -->')\n",
    "plt.legend()\n",
    "plt.show()"
   ]
  },
  {
   "cell_type": "code",
   "execution_count": 94,
   "id": "5ed5f46e",
   "metadata": {},
   "outputs": [
    {
     "name": "stdout",
     "output_type": "stream",
     "text": [
      "Confusion Matrix:\n",
      " [[27  0]\n",
      " [ 0 32]]\n",
      "Performance:\n",
      "               precision    recall  f1-score   support\n",
      "\n",
      "           0       1.00      1.00      1.00        27\n",
      "           1       1.00      1.00      1.00        32\n",
      "\n",
      "    accuracy                           1.00        59\n",
      "   macro avg       1.00      1.00      1.00        59\n",
      "weighted avg       1.00      1.00      1.00        59\n",
      "\n"
     ]
    }
   ],
   "source": [
    "CM=confusion_matrix(y_test,ETC_pred)\n",
    "print(\"Confusion Matrix:\\n\",CM)\n",
    "CR=classification_report(y_test,ETC_pred)\n",
    "print(\"Performance:\\n\",CR)"
   ]
  },
  {
   "cell_type": "code",
   "execution_count": 95,
   "id": "e0d833a1",
   "metadata": {},
   "outputs": [
    {
     "name": "stdout",
     "output_type": "stream",
     "text": [
      "Learning rate set to 0.045687\n",
      "0:\tlearn: 0.6807520\ttotal: 145ms\tremaining: 14.3s\n",
      "1:\tlearn: 0.6655767\ttotal: 158ms\tremaining: 7.72s\n",
      "2:\tlearn: 0.6552164\ttotal: 168ms\tremaining: 5.42s\n",
      "3:\tlearn: 0.6288025\ttotal: 168ms\tremaining: 4.04s\n",
      "4:\tlearn: 0.6107675\ttotal: 171ms\tremaining: 3.26s\n",
      "5:\tlearn: 0.5966253\ttotal: 176ms\tremaining: 2.76s\n",
      "6:\tlearn: 0.5759741\ttotal: 179ms\tremaining: 2.37s\n",
      "7:\tlearn: 0.5685089\ttotal: 188ms\tremaining: 2.16s\n",
      "8:\tlearn: 0.5495246\ttotal: 191ms\tremaining: 1.93s\n",
      "9:\tlearn: 0.5400077\ttotal: 201ms\tremaining: 1.81s\n",
      "10:\tlearn: 0.5225558\ttotal: 203ms\tremaining: 1.65s\n",
      "11:\tlearn: 0.5155381\ttotal: 214ms\tremaining: 1.57s\n",
      "12:\tlearn: 0.5019718\ttotal: 217ms\tremaining: 1.45s\n",
      "13:\tlearn: 0.4967162\ttotal: 229ms\tremaining: 1.41s\n",
      "14:\tlearn: 0.4782549\ttotal: 231ms\tremaining: 1.31s\n",
      "15:\tlearn: 0.4535031\ttotal: 232ms\tremaining: 1.22s\n",
      "16:\tlearn: 0.4372645\ttotal: 233ms\tremaining: 1.14s\n",
      "17:\tlearn: 0.4295383\ttotal: 239ms\tremaining: 1.09s\n",
      "18:\tlearn: 0.4168578\ttotal: 242ms\tremaining: 1.03s\n",
      "19:\tlearn: 0.4084180\ttotal: 245ms\tremaining: 981ms\n",
      "20:\tlearn: 0.4004843\ttotal: 248ms\tremaining: 934ms\n",
      "21:\tlearn: 0.3852092\ttotal: 249ms\tremaining: 883ms\n",
      "22:\tlearn: 0.3756117\ttotal: 251ms\tremaining: 841ms\n",
      "23:\tlearn: 0.3696958\ttotal: 260ms\tremaining: 824ms\n",
      "24:\tlearn: 0.3534092\ttotal: 261ms\tremaining: 783ms\n",
      "25:\tlearn: 0.3494719\ttotal: 270ms\tremaining: 768ms\n",
      "26:\tlearn: 0.3443645\ttotal: 275ms\tremaining: 744ms\n",
      "27:\tlearn: 0.3422126\ttotal: 286ms\tremaining: 736ms\n",
      "28:\tlearn: 0.3329453\ttotal: 287ms\tremaining: 704ms\n",
      "29:\tlearn: 0.3231770\ttotal: 289ms\tremaining: 674ms\n",
      "30:\tlearn: 0.3116086\ttotal: 290ms\tremaining: 644ms\n",
      "31:\tlearn: 0.3059187\ttotal: 294ms\tremaining: 625ms\n",
      "32:\tlearn: 0.3027073\ttotal: 304ms\tremaining: 617ms\n",
      "33:\tlearn: 0.2976741\ttotal: 307ms\tremaining: 595ms\n",
      "34:\tlearn: 0.2939623\ttotal: 317ms\tremaining: 589ms\n",
      "35:\tlearn: 0.2840881\ttotal: 318ms\tremaining: 565ms\n",
      "36:\tlearn: 0.2776597\ttotal: 319ms\tremaining: 543ms\n",
      "37:\tlearn: 0.2682374\ttotal: 320ms\tremaining: 521ms\n",
      "38:\tlearn: 0.2646177\ttotal: 329ms\tremaining: 514ms\n",
      "39:\tlearn: 0.2607150\ttotal: 338ms\tremaining: 507ms\n",
      "40:\tlearn: 0.2531913\ttotal: 339ms\tremaining: 489ms\n",
      "41:\tlearn: 0.2446077\ttotal: 340ms\tremaining: 470ms\n",
      "42:\tlearn: 0.2412244\ttotal: 350ms\tremaining: 464ms\n",
      "43:\tlearn: 0.2365752\ttotal: 359ms\tremaining: 457ms\n",
      "44:\tlearn: 0.2311327\ttotal: 361ms\tremaining: 441ms\n",
      "45:\tlearn: 0.2265309\ttotal: 370ms\tremaining: 434ms\n",
      "46:\tlearn: 0.2198688\ttotal: 372ms\tremaining: 419ms\n",
      "47:\tlearn: 0.2174821\ttotal: 383ms\tremaining: 415ms\n",
      "48:\tlearn: 0.2156042\ttotal: 393ms\tremaining: 409ms\n",
      "49:\tlearn: 0.2107098\ttotal: 395ms\tremaining: 395ms\n",
      "50:\tlearn: 0.2054383\ttotal: 398ms\tremaining: 382ms\n",
      "51:\tlearn: 0.2022916\ttotal: 401ms\tremaining: 370ms\n",
      "52:\tlearn: 0.1955369\ttotal: 401ms\tremaining: 356ms\n",
      "53:\tlearn: 0.1936877\ttotal: 413ms\tremaining: 352ms\n",
      "54:\tlearn: 0.1902101\ttotal: 416ms\tremaining: 340ms\n",
      "55:\tlearn: 0.1822944\ttotal: 416ms\tremaining: 327ms\n",
      "56:\tlearn: 0.1765547\ttotal: 417ms\tremaining: 314ms\n",
      "57:\tlearn: 0.1726433\ttotal: 418ms\tremaining: 303ms\n",
      "58:\tlearn: 0.1706760\ttotal: 427ms\tremaining: 297ms\n",
      "59:\tlearn: 0.1689929\ttotal: 430ms\tremaining: 286ms\n",
      "60:\tlearn: 0.1675235\ttotal: 439ms\tremaining: 281ms\n",
      "61:\tlearn: 0.1655489\ttotal: 446ms\tremaining: 273ms\n",
      "62:\tlearn: 0.1639366\ttotal: 451ms\tremaining: 265ms\n",
      "63:\tlearn: 0.1619284\ttotal: 459ms\tremaining: 258ms\n",
      "64:\tlearn: 0.1562618\ttotal: 460ms\tremaining: 248ms\n",
      "65:\tlearn: 0.1551086\ttotal: 469ms\tremaining: 242ms\n",
      "66:\tlearn: 0.1522793\ttotal: 474ms\tremaining: 233ms\n",
      "67:\tlearn: 0.1494352\ttotal: 476ms\tremaining: 224ms\n",
      "68:\tlearn: 0.1446545\ttotal: 476ms\tremaining: 214ms\n",
      "69:\tlearn: 0.1436630\ttotal: 485ms\tremaining: 208ms\n",
      "70:\tlearn: 0.1410298\ttotal: 488ms\tremaining: 199ms\n",
      "71:\tlearn: 0.1380693\ttotal: 490ms\tremaining: 190ms\n",
      "72:\tlearn: 0.1369664\ttotal: 499ms\tremaining: 184ms\n",
      "73:\tlearn: 0.1361339\ttotal: 508ms\tremaining: 178ms\n",
      "74:\tlearn: 0.1338444\ttotal: 510ms\tremaining: 170ms\n",
      "75:\tlearn: 0.1328447\ttotal: 519ms\tremaining: 164ms\n",
      "76:\tlearn: 0.1319351\ttotal: 528ms\tremaining: 158ms\n",
      "77:\tlearn: 0.1308878\ttotal: 534ms\tremaining: 151ms\n",
      "78:\tlearn: 0.1297700\ttotal: 545ms\tremaining: 145ms\n",
      "79:\tlearn: 0.1260471\ttotal: 546ms\tremaining: 136ms\n",
      "80:\tlearn: 0.1243651\ttotal: 549ms\tremaining: 129ms\n",
      "81:\tlearn: 0.1237272\ttotal: 561ms\tremaining: 123ms\n",
      "82:\tlearn: 0.1210135\ttotal: 562ms\tremaining: 115ms\n",
      "83:\tlearn: 0.1195401\ttotal: 568ms\tremaining: 108ms\n",
      "84:\tlearn: 0.1165201\ttotal: 569ms\tremaining: 100ms\n",
      "85:\tlearn: 0.1152323\ttotal: 573ms\tremaining: 93.3ms\n",
      "86:\tlearn: 0.1144790\ttotal: 583ms\tremaining: 87.1ms\n",
      "87:\tlearn: 0.1115534\ttotal: 584ms\tremaining: 79.7ms\n",
      "88:\tlearn: 0.1102702\ttotal: 591ms\tremaining: 73ms\n",
      "89:\tlearn: 0.1096994\ttotal: 600ms\tremaining: 66.7ms\n",
      "90:\tlearn: 0.1083257\ttotal: 603ms\tremaining: 59.6ms\n",
      "91:\tlearn: 0.1070947\ttotal: 607ms\tremaining: 52.8ms\n",
      "92:\tlearn: 0.1054920\ttotal: 608ms\tremaining: 45.8ms\n",
      "93:\tlearn: 0.1037075\ttotal: 609ms\tremaining: 38.9ms\n",
      "94:\tlearn: 0.1009093\ttotal: 610ms\tremaining: 32.1ms\n",
      "95:\tlearn: 0.0994764\ttotal: 612ms\tremaining: 25.5ms\n",
      "96:\tlearn: 0.0986512\ttotal: 617ms\tremaining: 19.1ms\n",
      "97:\tlearn: 0.0966931\ttotal: 619ms\tremaining: 12.6ms\n",
      "98:\tlearn: 0.0942175\ttotal: 620ms\tremaining: 6.26ms\n",
      "99:\tlearn: 0.0927605\ttotal: 621ms\tremaining: 0us\n"
     ]
    }
   ],
   "source": [
    "#cathboost\n",
    "from catboost import CatBoostClassifier\n",
    "cb = CatBoostClassifier(iterations=100,depth=10,random_state=42,auto_class_weights='Balanced')\n",
    "cb.fit(X_train,y_train)\n",
    "cb_pred=cb.predict(X_test)\n",
    "cb.score(X_test,y_test)\n",
    "prob_cb= cb.predict_proba(X_test) [:,1]"
   ]
  },
  {
   "cell_type": "code",
   "execution_count": 96,
   "id": "5cea877e",
   "metadata": {},
   "outputs": [
    {
     "data": {
      "image/png": "[encoded data removed]",
      "text/plain": [
       "<Figure size 500x500 with 1 Axes>"
      ]
     },
     "metadata": {},
     "output_type": "display_data"
    }
   ],
   "source": [
    "from sklearn.metrics import roc_curve, auc\n",
    "CathB_fpr,CathB_tpr, threshold = roc_curve(y_test, prob_cb)\n",
    "auc_CathB = auc(CathB_fpr, CathB_tpr)\n",
    "plt.figure(figsize=(5, 5), dpi=100)\n",
    "plt.plot(CathB_fpr, CathB_tpr, marker='.', label='CatBoost (auc = %0.3f)' % auc_CathB)\n",
    "plt.plot([0,1],[0,1],'b--')\n",
    "plt.xlabel('False Positive Rate -->')\n",
    "plt.ylabel('True Positive Rate -->')\n",
    "plt.legend()\n",
    "plt.show()"
   ]
  },
  {
   "cell_type": "code",
   "execution_count": null,
   "id": "cdb12bbe",
   "metadata": {},
   "outputs": [],
   "source": []
  },
  {
   "cell_type": "code",
   "execution_count": null,
   "id": "21d81fb6",
   "metadata": {},
   "outputs": [],
   "source": []
  },
  {
   "cell_type": "code",
   "execution_count": null,
   "id": "8b17824c",
   "metadata": {},
   "outputs": [],
   "source": []
  },
  {
   "cell_type": "code",
   "execution_count": null,
   "id": "ffe964a2",
   "metadata": {},
   "outputs": [],
   "source": []
  },
  {
   "cell_type": "code",
   "execution_count": null,
   "id": "8f47294c",
   "metadata": {},
   "outputs": [],
   "source": []
  },
  {
   "cell_type": "code",
   "execution_count": null,
   "id": "4e9d6ac9",
   "metadata": {},
   "outputs": [],
   "source": []
  }
 ],
 "metadata": {
  "kernelspec": {
   "display_name": "Python 3 (ipykernel)",
   "language": "python",
   "name": "python3"
  },
  "language_info": {
   "codemirror_mode": {
    "name": "ipython",
    "version": 3
   },
   "file_extension": ".py",
   "mimetype": "text/x-python",
   "name": "python",
   "nbconvert_exporter": "python",
   "pygments_lexer": "ipython3",
   "version": "3.9.12"
  }
 },
 "nbformat": 4,
 "nbformat_minor": 5
}
